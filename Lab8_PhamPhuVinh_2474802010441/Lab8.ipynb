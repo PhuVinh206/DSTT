{
  "nbformat": 4,
  "nbformat_minor": 0,
  "metadata": {
    "colab": {
      "provenance": []
    },
    "kernelspec": {
      "name": "python3",
      "display_name": "Python 3"
    },
    "language_info": {
      "name": "python"
    }
  },
  "cells": [
    {
      "cell_type": "markdown",
      "source": [
        "BÀI TRÊN LỚP"
      ],
      "metadata": {
        "id": "ne2BLg_skXwB"
      }
    },
    {
      "cell_type": "code",
      "execution_count": null,
      "metadata": {
        "colab": {
          "base_uri": "https://localhost:8080/"
        },
        "id": "LN0nZP5skV8X",
        "outputId": "a3918197-e186-44cc-b934-8920e6a47d85"
      },
      "outputs": [
        {
          "output_type": "stream",
          "name": "stdout",
          "text": [
            "[ 18 -11   9  -8]\n"
          ]
        }
      ],
      "source": [
        "import numpy as np\n",
        "u = np.array([2,-1,5,0])\n",
        "v = np.array([4,3,1,-1])\n",
        "w = np.array([-6,2,0,3])\n",
        "x = 2*u-(v+3*w)\n",
        "print (x)"
      ]
    },
    {
      "cell_type": "code",
      "source": [
        "import numpy as np\n",
        "u = np.array([2, -1, 5, 0])\n",
        "v = np.array([4, 3, 1, -1])\n",
        "w = np.array([-6, 2, 0, 3])\n",
        "x = u - 0.5 * v - 1.5 * w\n",
        "print(x)\n"
      ],
      "metadata": {
        "colab": {
          "base_uri": "https://localhost:8080/"
        },
        "id": "eNZzswkxkmwp",
        "outputId": "3c42e25d-6a4e-4433-8425-35889d0d049a"
      },
      "execution_count": null,
      "outputs": [
        {
          "output_type": "stream",
          "name": "stdout",
          "text": [
            "[ 9.  -5.5  4.5 -4. ]\n"
          ]
        }
      ]
    },
    {
      "cell_type": "code",
      "source": [
        "from numpy import linalg\n",
        "A = np.matrix([[0, -1, 3],[1, 1, 1],[4, 2, 2]])\n",
        "B = np.array([-1, -2, -2])\n",
        "X = np.linalg.solve(A, B)\n",
        "print (X)"
      ],
      "metadata": {
        "colab": {
          "base_uri": "https://localhost:8080/"
        },
        "id": "Sz7xsbumlIfM",
        "outputId": "dae0d1fd-0849-42b2-d563-99b1e875b57b"
      },
      "execution_count": null,
      "outputs": [
        {
          "output_type": "stream",
          "name": "stdout",
          "text": [
            "[ 1. -2. -1.]\n"
          ]
        }
      ]
    },
    {
      "cell_type": "code",
      "source": [
        "from numpy import linalg as LA\n",
        "A = np.matrix([[1,0],[0,0]])\n",
        "B = np.matrix([[0,0],[0,1]])\n",
        "LA.inv(A)"
      ],
      "metadata": {
        "colab": {
          "base_uri": "https://localhost:8080/",
          "height": 321
        },
        "id": "h3XAoGAflvQY",
        "outputId": "8015f7cd-08e1-45bd-881a-dfc0c4b68cca"
      },
      "execution_count": null,
      "outputs": [
        {
          "output_type": "error",
          "ename": "LinAlgError",
          "evalue": "Singular matrix",
          "traceback": [
            "\u001b[0;31m---------------------------------------------------------------------------\u001b[0m",
            "\u001b[0;31mLinAlgError\u001b[0m                               Traceback (most recent call last)",
            "\u001b[0;32m/tmp/ipython-input-6-1169077909.py\u001b[0m in \u001b[0;36m<cell line: 0>\u001b[0;34m()\u001b[0m\n\u001b[1;32m      2\u001b[0m \u001b[0mA\u001b[0m \u001b[0;34m=\u001b[0m \u001b[0mnp\u001b[0m\u001b[0;34m.\u001b[0m\u001b[0mmatrix\u001b[0m\u001b[0;34m(\u001b[0m\u001b[0;34m[\u001b[0m\u001b[0;34m[\u001b[0m\u001b[0;36m1\u001b[0m\u001b[0;34m,\u001b[0m\u001b[0;36m0\u001b[0m\u001b[0;34m]\u001b[0m\u001b[0;34m,\u001b[0m\u001b[0;34m[\u001b[0m\u001b[0;36m0\u001b[0m\u001b[0;34m,\u001b[0m\u001b[0;36m0\u001b[0m\u001b[0;34m]\u001b[0m\u001b[0;34m]\u001b[0m\u001b[0;34m)\u001b[0m\u001b[0;34m\u001b[0m\u001b[0;34m\u001b[0m\u001b[0m\n\u001b[1;32m      3\u001b[0m \u001b[0mB\u001b[0m \u001b[0;34m=\u001b[0m \u001b[0mnp\u001b[0m\u001b[0;34m.\u001b[0m\u001b[0mmatrix\u001b[0m\u001b[0;34m(\u001b[0m\u001b[0;34m[\u001b[0m\u001b[0;34m[\u001b[0m\u001b[0;36m0\u001b[0m\u001b[0;34m,\u001b[0m\u001b[0;36m0\u001b[0m\u001b[0;34m]\u001b[0m\u001b[0;34m,\u001b[0m\u001b[0;34m[\u001b[0m\u001b[0;36m0\u001b[0m\u001b[0;34m,\u001b[0m\u001b[0;36m1\u001b[0m\u001b[0;34m]\u001b[0m\u001b[0;34m]\u001b[0m\u001b[0;34m)\u001b[0m\u001b[0;34m\u001b[0m\u001b[0;34m\u001b[0m\u001b[0m\n\u001b[0;32m----> 4\u001b[0;31m \u001b[0mLA\u001b[0m\u001b[0;34m.\u001b[0m\u001b[0minv\u001b[0m\u001b[0;34m(\u001b[0m\u001b[0mA\u001b[0m\u001b[0;34m)\u001b[0m\u001b[0;34m\u001b[0m\u001b[0;34m\u001b[0m\u001b[0m\n\u001b[0m",
            "\u001b[0;32m/usr/local/lib/python3.11/dist-packages/numpy/linalg/_linalg.py\u001b[0m in \u001b[0;36minv\u001b[0;34m(a)\u001b[0m\n\u001b[1;32m    606\u001b[0m     with errstate(call=_raise_linalgerror_singular, invalid='call',\n\u001b[1;32m    607\u001b[0m                   over='ignore', divide='ignore', under='ignore'):\n\u001b[0;32m--> 608\u001b[0;31m         \u001b[0mainv\u001b[0m \u001b[0;34m=\u001b[0m \u001b[0m_umath_linalg\u001b[0m\u001b[0;34m.\u001b[0m\u001b[0minv\u001b[0m\u001b[0;34m(\u001b[0m\u001b[0ma\u001b[0m\u001b[0;34m,\u001b[0m \u001b[0msignature\u001b[0m\u001b[0;34m=\u001b[0m\u001b[0msignature\u001b[0m\u001b[0;34m)\u001b[0m\u001b[0;34m\u001b[0m\u001b[0;34m\u001b[0m\u001b[0m\n\u001b[0m\u001b[1;32m    609\u001b[0m     \u001b[0;32mreturn\u001b[0m \u001b[0mwrap\u001b[0m\u001b[0;34m(\u001b[0m\u001b[0mainv\u001b[0m\u001b[0;34m.\u001b[0m\u001b[0mastype\u001b[0m\u001b[0;34m(\u001b[0m\u001b[0mresult_t\u001b[0m\u001b[0;34m,\u001b[0m \u001b[0mcopy\u001b[0m\u001b[0;34m=\u001b[0m\u001b[0;32mFalse\u001b[0m\u001b[0;34m)\u001b[0m\u001b[0;34m)\u001b[0m\u001b[0;34m\u001b[0m\u001b[0;34m\u001b[0m\u001b[0m\n\u001b[1;32m    610\u001b[0m \u001b[0;34m\u001b[0m\u001b[0m\n",
            "\u001b[0;32m/usr/local/lib/python3.11/dist-packages/numpy/linalg/_linalg.py\u001b[0m in \u001b[0;36m_raise_linalgerror_singular\u001b[0;34m(err, flag)\u001b[0m\n\u001b[1;32m    102\u001b[0m \u001b[0;34m\u001b[0m\u001b[0m\n\u001b[1;32m    103\u001b[0m \u001b[0;32mdef\u001b[0m \u001b[0m_raise_linalgerror_singular\u001b[0m\u001b[0;34m(\u001b[0m\u001b[0merr\u001b[0m\u001b[0;34m,\u001b[0m \u001b[0mflag\u001b[0m\u001b[0;34m)\u001b[0m\u001b[0;34m:\u001b[0m\u001b[0;34m\u001b[0m\u001b[0;34m\u001b[0m\u001b[0m\n\u001b[0;32m--> 104\u001b[0;31m     \u001b[0;32mraise\u001b[0m \u001b[0mLinAlgError\u001b[0m\u001b[0;34m(\u001b[0m\u001b[0;34m\"Singular matrix\"\u001b[0m\u001b[0;34m)\u001b[0m\u001b[0;34m\u001b[0m\u001b[0;34m\u001b[0m\u001b[0m\n\u001b[0m\u001b[1;32m    105\u001b[0m \u001b[0;34m\u001b[0m\u001b[0m\n\u001b[1;32m    106\u001b[0m \u001b[0;32mdef\u001b[0m \u001b[0m_raise_linalgerror_nonposdef\u001b[0m\u001b[0;34m(\u001b[0m\u001b[0merr\u001b[0m\u001b[0;34m,\u001b[0m \u001b[0mflag\u001b[0m\u001b[0;34m)\u001b[0m\u001b[0;34m:\u001b[0m\u001b[0;34m\u001b[0m\u001b[0;34m\u001b[0m\u001b[0m\n",
            "\u001b[0;31mLinAlgError\u001b[0m: Singular matrix"
          ]
        }
      ]
    },
    {
      "cell_type": "code",
      "source": [
        " LA.inv(B)"
      ],
      "metadata": {
        "colab": {
          "base_uri": "https://localhost:8080/",
          "height": 287
        },
        "id": "09rW6xiflzup",
        "outputId": "1c07dfe3-1a60-4f7d-ac51-da4679b125c5"
      },
      "execution_count": null,
      "outputs": [
        {
          "output_type": "error",
          "ename": "LinAlgError",
          "evalue": "Singular matrix",
          "traceback": [
            "\u001b[0;31m---------------------------------------------------------------------------\u001b[0m",
            "\u001b[0;31mLinAlgError\u001b[0m                               Traceback (most recent call last)",
            "\u001b[0;32m/tmp/ipython-input-7-3401574718.py\u001b[0m in \u001b[0;36m<cell line: 0>\u001b[0;34m()\u001b[0m\n\u001b[0;32m----> 1\u001b[0;31m \u001b[0mLA\u001b[0m\u001b[0;34m.\u001b[0m\u001b[0minv\u001b[0m\u001b[0;34m(\u001b[0m\u001b[0mB\u001b[0m\u001b[0;34m)\u001b[0m\u001b[0;34m\u001b[0m\u001b[0;34m\u001b[0m\u001b[0m\n\u001b[0m",
            "\u001b[0;32m/usr/local/lib/python3.11/dist-packages/numpy/linalg/_linalg.py\u001b[0m in \u001b[0;36minv\u001b[0;34m(a)\u001b[0m\n\u001b[1;32m    606\u001b[0m     with errstate(call=_raise_linalgerror_singular, invalid='call',\n\u001b[1;32m    607\u001b[0m                   over='ignore', divide='ignore', under='ignore'):\n\u001b[0;32m--> 608\u001b[0;31m         \u001b[0mainv\u001b[0m \u001b[0;34m=\u001b[0m \u001b[0m_umath_linalg\u001b[0m\u001b[0;34m.\u001b[0m\u001b[0minv\u001b[0m\u001b[0;34m(\u001b[0m\u001b[0ma\u001b[0m\u001b[0;34m,\u001b[0m \u001b[0msignature\u001b[0m\u001b[0;34m=\u001b[0m\u001b[0msignature\u001b[0m\u001b[0;34m)\u001b[0m\u001b[0;34m\u001b[0m\u001b[0;34m\u001b[0m\u001b[0m\n\u001b[0m\u001b[1;32m    609\u001b[0m     \u001b[0;32mreturn\u001b[0m \u001b[0mwrap\u001b[0m\u001b[0;34m(\u001b[0m\u001b[0mainv\u001b[0m\u001b[0;34m.\u001b[0m\u001b[0mastype\u001b[0m\u001b[0;34m(\u001b[0m\u001b[0mresult_t\u001b[0m\u001b[0;34m,\u001b[0m \u001b[0mcopy\u001b[0m\u001b[0;34m=\u001b[0m\u001b[0;32mFalse\u001b[0m\u001b[0;34m)\u001b[0m\u001b[0;34m)\u001b[0m\u001b[0;34m\u001b[0m\u001b[0;34m\u001b[0m\u001b[0m\n\u001b[1;32m    610\u001b[0m \u001b[0;34m\u001b[0m\u001b[0m\n",
            "\u001b[0;32m/usr/local/lib/python3.11/dist-packages/numpy/linalg/_linalg.py\u001b[0m in \u001b[0;36m_raise_linalgerror_singular\u001b[0;34m(err, flag)\u001b[0m\n\u001b[1;32m    102\u001b[0m \u001b[0;34m\u001b[0m\u001b[0m\n\u001b[1;32m    103\u001b[0m \u001b[0;32mdef\u001b[0m \u001b[0m_raise_linalgerror_singular\u001b[0m\u001b[0;34m(\u001b[0m\u001b[0merr\u001b[0m\u001b[0;34m,\u001b[0m \u001b[0mflag\u001b[0m\u001b[0;34m)\u001b[0m\u001b[0;34m:\u001b[0m\u001b[0;34m\u001b[0m\u001b[0;34m\u001b[0m\u001b[0m\n\u001b[0;32m--> 104\u001b[0;31m     \u001b[0;32mraise\u001b[0m \u001b[0mLinAlgError\u001b[0m\u001b[0;34m(\u001b[0m\u001b[0;34m\"Singular matrix\"\u001b[0m\u001b[0;34m)\u001b[0m\u001b[0;34m\u001b[0m\u001b[0;34m\u001b[0m\u001b[0m\n\u001b[0m\u001b[1;32m    105\u001b[0m \u001b[0;34m\u001b[0m\u001b[0m\n\u001b[1;32m    106\u001b[0m \u001b[0;32mdef\u001b[0m \u001b[0m_raise_linalgerror_nonposdef\u001b[0m\u001b[0;34m(\u001b[0m\u001b[0merr\u001b[0m\u001b[0;34m,\u001b[0m \u001b[0mflag\u001b[0m\u001b[0;34m)\u001b[0m\u001b[0;34m:\u001b[0m\u001b[0;34m\u001b[0m\u001b[0;34m\u001b[0m\u001b[0m\n",
            "\u001b[0;31mLinAlgError\u001b[0m: Singular matrix"
          ]
        }
      ]
    },
    {
      "cell_type": "code",
      "source": [
        "LA.inv(A+B)"
      ],
      "metadata": {
        "colab": {
          "base_uri": "https://localhost:8080/"
        },
        "id": "Sj-rYX5OmZZZ",
        "outputId": "c493dfa0-9806-4088-901f-aaac51d6110e"
      },
      "execution_count": null,
      "outputs": [
        {
          "output_type": "execute_result",
          "data": {
            "text/plain": [
              "matrix([[1., 0.],\n",
              "        [0., 1.]])"
            ]
          },
          "metadata": {},
          "execution_count": 8
        }
      ]
    },
    {
      "cell_type": "code",
      "source": [
        "LA.det(A)"
      ],
      "metadata": {
        "colab": {
          "base_uri": "https://localhost:8080/"
        },
        "id": "0TIr7bEVmcQI",
        "outputId": "1370ebd3-82f0-495c-f6bc-2084388925bc"
      },
      "execution_count": null,
      "outputs": [
        {
          "output_type": "execute_result",
          "data": {
            "text/plain": [
              "np.float64(0.0)"
            ]
          },
          "metadata": {},
          "execution_count": 9
        }
      ]
    },
    {
      "cell_type": "code",
      "source": [
        "LA.det(B)"
      ],
      "metadata": {
        "colab": {
          "base_uri": "https://localhost:8080/"
        },
        "id": "jbOPNIifmgyo",
        "outputId": "0ed2f17a-af07-48de-8a8b-896d60e16c4c"
      },
      "execution_count": null,
      "outputs": [
        {
          "output_type": "execute_result",
          "data": {
            "text/plain": [
              "np.float64(0.0)"
            ]
          },
          "metadata": {},
          "execution_count": 10
        }
      ]
    },
    {
      "cell_type": "code",
      "source": [
        "LA.det(A+B)"
      ],
      "metadata": {
        "colab": {
          "base_uri": "https://localhost:8080/"
        },
        "id": "2E4C0-EHmmf5",
        "outputId": "5d0986ef-855b-43a5-bf66-5422fc01e1d2"
      },
      "execution_count": null,
      "outputs": [
        {
          "output_type": "execute_result",
          "data": {
            "text/plain": [
              "np.float64(1.0)"
            ]
          },
          "metadata": {},
          "execution_count": 11
        }
      ]
    },
    {
      "cell_type": "code",
      "source": [
        "import sympy as sp\n",
        "x, y = sp.symbols('x y')\n",
        "A = sp.Matrix([[x, y],[y, x]])\n",
        "x1, y1 = sp.symbols('x1 y1')\n",
        "A1 = sp.Matrix([[x1, y1],[y1, x1]])\n",
        "x2, y2 = sp.symbols('x2 y2')\n",
        "A2 = sp.Matrix([[x2, y2],[y2, x2]])\n",
        "A1.T"
      ],
      "metadata": {
        "colab": {
          "base_uri": "https://localhost:8080/",
          "height": 58
        },
        "id": "NbwQZ3oAmnfB",
        "outputId": "818a5a5e-9d21-41c2-e32e-e6b37a5446c2"
      },
      "execution_count": null,
      "outputs": [
        {
          "output_type": "execute_result",
          "data": {
            "text/plain": [
              "Matrix([\n",
              "[x1, y1],\n",
              "[y1, x1]])"
            ],
            "text/latex": "$\\displaystyle \\left[\\begin{matrix}x_{1} & y_{1}\\\\y_{1} & x_{1}\\end{matrix}\\right]$"
          },
          "metadata": {},
          "execution_count": 12
        }
      ]
    },
    {
      "cell_type": "code",
      "source": [
        "(A1+A2).T"
      ],
      "metadata": {
        "colab": {
          "base_uri": "https://localhost:8080/",
          "height": 58
        },
        "id": "JCm72MSEmwbx",
        "outputId": "26213910-d6ed-436f-b850-8505d611b397"
      },
      "execution_count": null,
      "outputs": [
        {
          "output_type": "execute_result",
          "data": {
            "text/plain": [
              "Matrix([\n",
              "[x1 + x2, y1 + y2],\n",
              "[y1 + y2, x1 + x2]])"
            ],
            "text/latex": "$\\displaystyle \\left[\\begin{matrix}x_{1} + x_{2} & y_{1} + y_{2}\\\\y_{1} + y_{2} & x_{1} + x_{2}\\end{matrix}\\right]$"
          },
          "metadata": {},
          "execution_count": 13
        }
      ]
    },
    {
      "cell_type": "code",
      "source": [
        "((A1+A2).T).equals(A1+A2)"
      ],
      "metadata": {
        "colab": {
          "base_uri": "https://localhost:8080/"
        },
        "id": "i_JO7mFomyZQ",
        "outputId": "d69c80cb-3224-4e69-8aca-f9fce2368b87"
      },
      "execution_count": null,
      "outputs": [
        {
          "output_type": "execute_result",
          "data": {
            "text/plain": [
              "True"
            ]
          },
          "metadata": {},
          "execution_count": 14
        }
      ]
    },
    {
      "cell_type": "code",
      "source": [
        "c = sp.symbols('c')\n",
        "print (c*A)"
      ],
      "metadata": {
        "colab": {
          "base_uri": "https://localhost:8080/"
        },
        "id": "lA370dsrmzwB",
        "outputId": "948d3913-3ab1-4d26-881d-882809ed6d88"
      },
      "execution_count": null,
      "outputs": [
        {
          "output_type": "stream",
          "name": "stdout",
          "text": [
            "Matrix([[c*x, c*y], [c*y, c*x]])\n"
          ]
        }
      ]
    },
    {
      "cell_type": "code",
      "source": [
        " ((c*A).T).equals(c*A)"
      ],
      "metadata": {
        "colab": {
          "base_uri": "https://localhost:8080/"
        },
        "id": "g93tA_DNm2wZ",
        "outputId": "dde219f0-bedd-428f-933f-88a9f72cddae"
      },
      "execution_count": null,
      "outputs": [
        {
          "output_type": "execute_result",
          "data": {
            "text/plain": [
              "True"
            ]
          },
          "metadata": {},
          "execution_count": 16
        }
      ]
    },
    {
      "cell_type": "code",
      "source": [
        "import numpy as np\n",
        "v1 = np.array([1, 2, 3])\n",
        "v2 = np.array([0, 1, 2])\n",
        "v3 = np.array([-1, 0, 1])\n",
        "w1 = np.array([1, 1, 1])\n",
        "A = np.column_stack((v1, v2, v3))\n",
        "try:\n",
        "    c = np.linalg.solve(A, w1)\n",
        "    print(\"a. w1 là tổ hợp tuyến tính của v1, v2, v3 với hệ số:\", c)\n",
        "except np.linalg.LinAlgError:\n",
        "    print(\"a. w1 không là tổ hợp tuyến tính của v1, v2, v3\")"
      ],
      "metadata": {
        "colab": {
          "base_uri": "https://localhost:8080/"
        },
        "id": "J2TsHzK0m4Tw",
        "outputId": "c984892c-7a6c-4a28-8637-f66998de9913"
      },
      "execution_count": null,
      "outputs": [
        {
          "output_type": "stream",
          "name": "stdout",
          "text": [
            "a. w1 là tổ hợp tuyến tính của v1, v2, v3 với hệ số: [ 5.00000000e-01 -1.66533454e-16 -5.00000000e-01]\n"
          ]
        }
      ]
    },
    {
      "cell_type": "code",
      "source": [
        "w2 = np.array([1, -2, 2])\n",
        "try:\n",
        "    c = np.linalg.solve(A, w2)\n",
        "    print(\"b. w2 là tổ hợp tuyến tính của v1, v2, v3 với hệ số:\", c)\n",
        "except np.linalg.LinAlgError:\n",
        "    print(\"b. w2 không là tổ hợp tuyến tính của v1, v2, v3\")"
      ],
      "metadata": {
        "colab": {
          "base_uri": "https://localhost:8080/"
        },
        "id": "3E2FSZNKnOQQ",
        "outputId": "204fd554-b0f6-4b8e-b196-4b583a693c19"
      },
      "execution_count": null,
      "outputs": [
        {
          "output_type": "stream",
          "name": "stdout",
          "text": [
            "b. w2 là tổ hợp tuyến tính của v1, v2, v3 với hệ số: [ 3.15251974e+16 -6.30503948e+16  3.15251974e+16]\n"
          ]
        }
      ]
    },
    {
      "cell_type": "code",
      "source": [
        "import sympy as sp\n",
        "c1, c2, c3 = sp.symbols('c1 c2 c3')\n",
        "sp.solve([c1-2*c3, 2*c1+c2, 3*c1+2*c2+c3], [c1, c2, c3])"
      ],
      "metadata": {
        "colab": {
          "base_uri": "https://localhost:8080/"
        },
        "id": "G3LFywHWnXLx",
        "outputId": "5662ec10-fa4f-49f9-fff3-858623aef368"
      },
      "execution_count": null,
      "outputs": [
        {
          "output_type": "execute_result",
          "data": {
            "text/plain": [
              "{c1: 0, c2: 0, c3: 0}"
            ]
          },
          "metadata": {},
          "execution_count": 19
        }
      ]
    },
    {
      "cell_type": "code",
      "source": [
        "import sympy as sp\n",
        "c1, c2 = sp.symbols('c1 c2')\n",
        "u1, u2 = sp.symbols('u1 u2')\n",
        "sp.solve([c1+c2-u1,c1-c2-u2])"
      ],
      "metadata": {
        "colab": {
          "base_uri": "https://localhost:8080/"
        },
        "id": "rkeAnvTZndag",
        "outputId": "8f12fb4c-1775-4f91-8ea5-098eac25805d"
      },
      "execution_count": null,
      "outputs": [
        {
          "output_type": "execute_result",
          "data": {
            "text/plain": [
              "{c1: u1/2 + u2/2, c2: u1/2 - u2/2}"
            ]
          },
          "metadata": {},
          "execution_count": 20
        }
      ]
    },
    {
      "cell_type": "code",
      "source": [
        "u1 = 0\n",
        "u2 = 0\n",
        "sp.solve([c1+c2-u1,c1-c2-u2])"
      ],
      "metadata": {
        "colab": {
          "base_uri": "https://localhost:8080/"
        },
        "id": "KwjB5AeNnjk3",
        "outputId": "23f70e18-f223-42bb-caa5-acd4957af508"
      },
      "execution_count": null,
      "outputs": [
        {
          "output_type": "execute_result",
          "data": {
            "text/plain": [
              "{c1: 0, c2: 0}"
            ]
          },
          "metadata": {},
          "execution_count": 21
        }
      ]
    },
    {
      "cell_type": "code",
      "source": [
        "import numpy as np\n",
        "P = np.array([[0,0,3,3,1,1,2,2,1,1],[0,5,5,4,4,3,3,2,2,0]])\n",
        "vecdelta = np.array([4,2])\n",
        "P_caua = (P.T + vecdelta).T\n",
        "print (P_caua)"
      ],
      "metadata": {
        "colab": {
          "base_uri": "https://localhost:8080/"
        },
        "id": "Qx2i8Usnnu75",
        "outputId": "811741c3-4b6e-4cd9-e018-e848d88c9b82"
      },
      "execution_count": null,
      "outputs": [
        {
          "output_type": "stream",
          "name": "stdout",
          "text": [
            "[[4 4 7 7 5 5 6 6 5 5]\n",
            " [2 7 7 6 6 5 5 4 4 2]]\n"
          ]
        }
      ]
    },
    {
      "cell_type": "code",
      "source": [
        "import numpy as np\n",
        "P = np.array([[0,0,3,3,1,1,2,2,1,1],[0,5,5,4,4,3,3,2,2,0]])\n",
        "vecdelta = np.array([4,-2])\n",
        "matran_biendoi = np.array([[1.0, 0.0],\n",
        "                           [0.0, 2.0]])\n",
        "P_caub = (P.T @ matran_biendoi + vecdelta).T\n",
        "print (P_caub)"
      ],
      "metadata": {
        "colab": {
          "base_uri": "https://localhost:8080/"
        },
        "id": "g1mSRKoZn1dQ",
        "outputId": "da73b5d6-c823-4ef3-c099-1fc2b6e3d50d"
      },
      "execution_count": null,
      "outputs": [
        {
          "output_type": "stream",
          "name": "stdout",
          "text": [
            "[[ 4.  4.  7.  7.  5.  5.  6.  6.  5.  5.]\n",
            " [-2.  8.  8.  6.  6.  4.  4.  2.  2. -2.]]\n"
          ]
        }
      ]
    },
    {
      "cell_type": "code",
      "source": [
        "import numpy as np\n",
        "def transform_point(x, y, a, b):\n",
        "    M = np.array([\n",
        "        [-1, 0],\n",
        "        [ 0, 1]\n",
        "    ])\n",
        "    P = np.array([x, y])\n",
        "    T = np.array([a, b])\n",
        "    new_point = M @ P + T\n",
        "    return new_point\n",
        "x, y = 3, 2\n",
        "a, b = 5, -1\n",
        "new_x, new_y = transform_point(x, y, a, b)\n",
        "print(f\"Điểm sau biến đổi: ({new_x}, {new_y})\")"
      ],
      "metadata": {
        "colab": {
          "base_uri": "https://localhost:8080/"
        },
        "id": "PR5qhTXHn8Lp",
        "outputId": "493985e9-b488-471a-bf8d-444e0c1133d4"
      },
      "execution_count": null,
      "outputs": [
        {
          "output_type": "stream",
          "name": "stdout",
          "text": [
            "Điểm sau biến đổi: (2, 1)\n"
          ]
        }
      ]
    },
    {
      "cell_type": "code",
      "source": [
        "import numpy as np\n",
        "def shear_translate_point(x, y, p, q, a, b):\n",
        "    M = np.array([\n",
        "        [1, p],\n",
        "        [q, 1]])\n",
        "    P = np.array([x, y])\n",
        "    T = np.array([a, b])\n",
        "    new_point = M @ P + T\n",
        "    return new_point\n",
        "x, y = 3, 2\n",
        "p, q = 0.5, 0\n",
        "a, b = 1, -1\n",
        "new_x, new_y = shear_translate_point(x, y, p, q, a, b)\n",
        "print(f\"Điểm sau biến đổi: ({new_x}, {new_y})\")"
      ],
      "metadata": {
        "colab": {
          "base_uri": "https://localhost:8080/"
        },
        "id": "eRpZqVJxoQIS",
        "outputId": "d406ca49-14f0-4bac-e43a-4b88f3bc87f8"
      },
      "execution_count": null,
      "outputs": [
        {
          "output_type": "stream",
          "name": "stdout",
          "text": [
            "Điểm sau biến đổi: (5.0, 1.0)\n"
          ]
        }
      ]
    },
    {
      "cell_type": "code",
      "source": [
        "import numpy as np\n",
        "def reflect_y0(x, y):\n",
        "    M = np.array([\n",
        "        [-1, 0],\n",
        "        [ 0, 1]\n",
        "    ])\n",
        "    P = np.array([x, y])\n",
        "    new_point = M @ P\n",
        "    return new_point\n",
        "x, y = 3, 2\n",
        "new_x, new_y = reflect_y0(x, y)\n",
        "print(f\"Đối xứng qua y=0: ({new_x}, {new_y})\")"
      ],
      "metadata": {
        "colab": {
          "base_uri": "https://localhost:8080/"
        },
        "id": "NmoW7KX9oaBQ",
        "outputId": "1f9ba981-694e-4932-e4e8-0e40348b63f6"
      },
      "execution_count": null,
      "outputs": [
        {
          "output_type": "stream",
          "name": "stdout",
          "text": [
            "Đối xứng qua y=0: (-3, 2)\n"
          ]
        }
      ]
    },
    {
      "cell_type": "code",
      "source": [
        "def reflect_y_eq_x(x, y):\n",
        "    M = np.array([\n",
        "        [0, 1],\n",
        "        [1, 0]])\n",
        "    P = np.array([x, y])\n",
        "    new_point = M @ P\n",
        "    return new_point\n",
        "new_x, new_y = reflect_y_eq_x(x, y)\n",
        "print(f\"Đối xứng qua y=x: ({new_x}, {new_y})\")"
      ],
      "metadata": {
        "colab": {
          "base_uri": "https://localhost:8080/"
        },
        "id": "86ahZql-opcJ",
        "outputId": "5919389a-9317-49b9-f6c4-8b1559e19989"
      },
      "execution_count": null,
      "outputs": [
        {
          "output_type": "stream",
          "name": "stdout",
          "text": [
            "Đối xứng qua y=x: (2, 3)\n"
          ]
        }
      ]
    },
    {
      "cell_type": "code",
      "source": [
        "import sympy as sp\n",
        "from sympy import lambdify\n",
        "x1, x2, x3 = sp.symbols('x1 x2 x3')\n",
        "bieuthuc1 = x1 - x2 + x3\n",
        "f1 = lambdify([x1, x2, x3], bieuthuc1, 'numpy')\n",
        "a, b, c = sp.symbols('a b c') # khai báo thêm 3 biến a, b, c giả định X = (a, b, c)\n",
        "d, e, f = sp.symbols('d e f') # khai báo thêm 3 biến d, e, f giả định Y = (e, d, f)\n",
        "f1(a, b, c)"
      ],
      "metadata": {
        "colab": {
          "base_uri": "https://localhost:8080/",
          "height": 39
        },
        "id": "5leJj0ZFo8E4",
        "outputId": "590eb847-fbe9-4421-cb96-0e62e36a55c0"
      },
      "execution_count": null,
      "outputs": [
        {
          "output_type": "execute_result",
          "data": {
            "text/plain": [
              "a - b + c"
            ],
            "text/latex": "$\\displaystyle a - b + c$"
          },
          "metadata": {},
          "execution_count": 29
        }
      ]
    },
    {
      "cell_type": "code",
      "source": [
        "f1(d, e, f)"
      ],
      "metadata": {
        "colab": {
          "base_uri": "https://localhost:8080/",
          "height": 39
        },
        "id": "LNUT5WJ9pB3J",
        "outputId": "8509a360-d027-4fbe-bb18-685bdaf928fb"
      },
      "execution_count": null,
      "outputs": [
        {
          "output_type": "execute_result",
          "data": {
            "text/plain": [
              "d - e + f"
            ],
            "text/latex": "$\\displaystyle d - e + f$"
          },
          "metadata": {},
          "execution_count": 30
        }
      ]
    },
    {
      "cell_type": "code",
      "source": [
        "f1(a+d, b+e, c+f)"
      ],
      "metadata": {
        "colab": {
          "base_uri": "https://localhost:8080/",
          "height": 39
        },
        "id": "tzv9R__MpCig",
        "outputId": "c6be3666-659d-4ad9-e92e-8148efe4e76e"
      },
      "execution_count": null,
      "outputs": [
        {
          "output_type": "execute_result",
          "data": {
            "text/plain": [
              "a - b + c + d - e + f"
            ],
            "text/latex": "$\\displaystyle a - b + c + d - e + f$"
          },
          "metadata": {},
          "execution_count": 31
        }
      ]
    },
    {
      "cell_type": "code",
      "source": [
        "f1(a,b,c) + f1(d,e,f) == f1(a+d, b+e, c+f)"
      ],
      "metadata": {
        "colab": {
          "base_uri": "https://localhost:8080/"
        },
        "id": "dfC5hPS6pExJ",
        "outputId": "36996a47-dbc7-40a6-bfee-ac8a30666ed5"
      },
      "execution_count": null,
      "outputs": [
        {
          "output_type": "execute_result",
          "data": {
            "text/plain": [
              "True"
            ]
          },
          "metadata": {},
          "execution_count": 32
        }
      ]
    },
    {
      "cell_type": "code",
      "source": [
        "(f1(a,b,c) + f1(d,e,f)).equals( f1(a+d, b+e, c+f))"
      ],
      "metadata": {
        "colab": {
          "base_uri": "https://localhost:8080/"
        },
        "id": "TaoDiCkopH-w",
        "outputId": "53bb5840-d4f3-4798-ecd1-887401ea020b"
      },
      "execution_count": null,
      "outputs": [
        {
          "output_type": "execute_result",
          "data": {
            "text/plain": [
              "True"
            ]
          },
          "metadata": {},
          "execution_count": 33
        }
      ]
    },
    {
      "cell_type": "code",
      "source": [
        "q = sp.symbols('q')\n",
        "(q*f1(a,b,c) + f1(d,e,f)).equals(f1(q*a+d, q*b+e, q*c+f).expand())"
      ],
      "metadata": {
        "id": "hoNhqSMrpJsp",
        "outputId": "7f1f6e23-625a-4902-d9c9-65c6a395815d",
        "colab": {
          "base_uri": "https://localhost:8080/"
        }
      },
      "execution_count": null,
      "outputs": [
        {
          "output_type": "execute_result",
          "data": {
            "text/plain": [
              "True"
            ]
          },
          "metadata": {},
          "execution_count": 34
        }
      ]
    },
    {
      "cell_type": "code",
      "source": [
        "bieuthuc2 = 2*x2 + 3* x3\n",
        "f2 = lambdify([x1, x2, x3], bieuthuc2, 'numpy')\n",
        "(q*f2(a,b,c) + f2(d,e,f)).equals(f2(q*a+d, q*b+e, q*c+f).expand())"
      ],
      "metadata": {
        "id": "5XZ1NDTlpMno"
      },
      "execution_count": null,
      "outputs": []
    },
    {
      "cell_type": "code",
      "source": [
        "import numpy as np\n",
        "u1 = np.array([1,2])\n",
        "u2 = np.array([3,5])\n",
        "u3 = np.array([4,5])\n",
        "A = np.column_stack((u1, u2))\n",
        "b = u3\n",
        "alpha_beta = np.linalg.solve(A, b)\n",
        "alpha, beta = alpha_beta\n",
        "print(f\"alpha = {alpha}, beta = {beta}\")\n",
        "f_u1 = np.array([1,1,2])\n",
        "f_u2 = np.array([4,2,1])\n",
        "f_u3 = alpha * f_u1 + beta * f_u2\n",
        "print(f\"f(4,5) = {f_u3}\")"
      ],
      "metadata": {
        "colab": {
          "base_uri": "https://localhost:8080/"
        },
        "id": "Alle5_xVqz10",
        "outputId": "439466e5-92bd-464c-b1ab-4b1000d31260"
      },
      "execution_count": 38,
      "outputs": [
        {
          "output_type": "stream",
          "name": "stdout",
          "text": [
            "alpha = -5.0, beta = 3.0\n",
            "f(4,5) = [ 7.  1. -7.]\n"
          ]
        }
      ]
    },
    {
      "cell_type": "code",
      "source": [
        "import sympy as sp\n",
        "a, b = sp.symbols('a b')\n",
        "x, y = sp.symbols('x y')\n",
        "sp.solve([a+3*b-x, 2*a+5*b-y],[a,b])"
      ],
      "metadata": {
        "colab": {
          "base_uri": "https://localhost:8080/"
        },
        "id": "_p097ijhqgMj",
        "outputId": "a758485d-f667-4e5f-9a33-4f0bd89d41ba"
      },
      "execution_count": 37,
      "outputs": [
        {
          "output_type": "execute_result",
          "data": {
            "text/plain": [
              "{a: -5*x + 3*y, b: 2*x - y}"
            ]
          },
          "metadata": {},
          "execution_count": 37
        }
      ]
    },
    {
      "cell_type": "code",
      "source": [
        "import numpy as np\n",
        "u1 = np.array([1, 2])\n",
        "u2 = np.array([3, 5])\n",
        "u3 = np.array([4, 5])\n",
        "A = np.column_stack((u1, u2))\n",
        "b = u3\n",
        "alpha_beta = np.linalg.solve(A, b)\n",
        "alpha, beta = alpha_beta\n",
        "print(f\"α = {alpha}, β = {beta}\")\n",
        "f_u1 = np.array([1, 1, 2])\n",
        "f_u2 = np.array([4, 2, 1])\n",
        "f_u3 = alpha * f_u1 + beta * f_u2\n",
        "print(f\"f(u3) = {f_u3}\")"
      ],
      "metadata": {
        "colab": {
          "base_uri": "https://localhost:8080/"
        },
        "id": "E7q7A4l0q9pD",
        "outputId": "9941f931-285c-4eb6-a602-c75ba45ae9ce"
      },
      "execution_count": 42,
      "outputs": [
        {
          "output_type": "stream",
          "name": "stdout",
          "text": [
            "α = -5.0, β = 3.0\n",
            "f(u3) = [ 7.  1. -7.]\n"
          ]
        }
      ]
    },
    {
      "cell_type": "code",
      "source": [
        "import numpy as np\n",
        "u1 = np.array([-1, 1])\n",
        "u2 = np.array([1, 0])\n",
        "v1 = np.array([1, 2])\n",
        "v2 = np.array([1, 3])\n",
        "def f(x):\n",
        "    return np.array([x[0] - x[1], x[0]])\n",
        "fu1 = f(u1)\n",
        "fu2 = f(u2)\n",
        "F = np.column_stack((v1, v2))\n",
        "coords_fu1 = np.linalg.solve(F, fu1)\n",
        "coords_fu2 = np.linalg.solve(F, fu2)\n",
        "A = np.column_stack((coords_fu1, coords_fu2))\n",
        "print(\"Tọa độ [f(u1)]_F:\", coords_fu1)\n",
        "print(\"Tọa độ [f(u2)]_F:\", coords_fu2)\n",
        "print(\"Ma trận ánh xạ A = [f]^F_B:\\n\", A)"
      ],
      "metadata": {
        "colab": {
          "base_uri": "https://localhost:8080/"
        },
        "id": "x3sW_tqGrE20",
        "outputId": "88b70606-48c8-4513-c73b-d2c4df8332eb"
      },
      "execution_count": 43,
      "outputs": [
        {
          "output_type": "stream",
          "name": "stdout",
          "text": [
            "Tọa độ [f(u1)]_F: [-5.  3.]\n",
            "Tọa độ [f(u2)]_F: [ 2. -1.]\n",
            "Ma trận ánh xạ A = [f]^F_B:\n",
            " [[-5.  2.]\n",
            " [ 3. -1.]]\n"
          ]
        }
      ]
    },
    {
      "cell_type": "code",
      "source": [
        "import numpy as np\n",
        "A, B, C, D, E, F = 5, -6, 5, 14*np.sqrt(2), -2*np.sqrt(2), 18\n",
        "theta = -np.pi / 4\n",
        "cos_t = np.cos(theta)\n",
        "sin_t = np.sin(theta)\n",
        "R = np.array([[cos_t, -sin_t],\n",
        "              [sin_t, cos_t]])\n",
        "print(\"Ma trận xoay R:\")\n",
        "print(R)\n",
        "Q = np.array([[A, B/2],\n",
        "              [B/2, C]])\n",
        "print(\"Ma trận Q (x, y):\")\n",
        "print(Q)\n",
        "Q_prime = R.T @ Q @ R\n",
        "print(\"Ma trận Q' sau xoay:\")\n",
        "print(Q_prime)\n",
        "A_prime, C_prime = Q_prime[0,0], Q_prime[1,1]\n",
        "B_prime = 2 * Q_prime[0,1]\n",
        "print(f\"A' = {A_prime}, B' = {B_prime}, C' = {C_prime}\")"
      ],
      "metadata": {
        "colab": {
          "base_uri": "https://localhost:8080/"
        },
        "id": "a8BvKsfYsb8M",
        "outputId": "b084af9e-9332-4e79-a332-2ea90fe96755"
      },
      "execution_count": 44,
      "outputs": [
        {
          "output_type": "stream",
          "name": "stdout",
          "text": [
            "Ma trận xoay R:\n",
            "[[ 0.70710678  0.70710678]\n",
            " [-0.70710678  0.70710678]]\n",
            "Ma trận Q (x, y):\n",
            "[[ 5. -3.]\n",
            " [-3.  5.]]\n",
            "Ma trận Q' sau xoay:\n",
            "[[ 8.00000000e+00 -8.07006129e-16]\n",
            " [-4.69783081e-16  2.00000000e+00]]\n",
            "A' = 7.999999999999999, B' = -1.614012257679138e-15, C' = 1.9999999999999998\n"
          ]
        }
      ]
    },
    {
      "cell_type": "markdown",
      "source": [
        "BT VỀ NHÀ"
      ],
      "metadata": {
        "id": "GX_9EBoYuoUt"
      }
    },
    {
      "cell_type": "code",
      "source": [
        "import sympy as sp\n",
        "def g(x, y, z):\n",
        "    return (x + y, z + 2, 0)\n",
        "u = sp.Matrix([1, 2, 3])\n",
        "v = sp.Matrix([4, 5, 6])\n",
        "c = 3\n",
        "g_u = sp.Matrix(g(*u))\n",
        "g_v = sp.Matrix(g(*v))\n",
        "g_u_plus_v = sp.Matrix(g(*(u + v)))\n",
        "g_u_plus_g_v = g_u + g_v\n",
        "g_cu = sp.Matrix(g(*(c * u)))\n",
        "c_g_u = c * g_u\n",
        "print(\"g(u + v) == g(u) + g(v)?\", g_u_plus_v == g_u_plus_g_v)\n",
        "print(\"g(c * u) == c * g(u)?\", g_cu == c_g_u)"
      ],
      "metadata": {
        "colab": {
          "base_uri": "https://localhost:8080/"
        },
        "id": "9LYxeJL0thp9",
        "outputId": "85684b5d-e367-447b-e37e-a3ae38786c4d"
      },
      "execution_count": 46,
      "outputs": [
        {
          "output_type": "stream",
          "name": "stdout",
          "text": [
            "g(u + v) == g(u) + g(v)? False\n",
            "g(c * u) == c * g(u)? False\n"
          ]
        }
      ]
    },
    {
      "cell_type": "code",
      "source": [
        "import numpy as np\n",
        "theta_deg = 45\n",
        "theta = np.radians(theta_deg)\n",
        "P = np.array([[np.cos(theta), np.sin(theta)],\n",
        "              [-np.sin(theta), np.cos(theta)]])\n",
        "X = np.array([[2], [3]])\n",
        "X_new = P @ X\n",
        "print(\"Toạ độ điểm sau khi biến đổi (trong cơ sở xoay):\")\n",
        "print(X_new)"
      ],
      "metadata": {
        "colab": {
          "base_uri": "https://localhost:8080/"
        },
        "id": "FZnCJ3BauFO0",
        "outputId": "1b8fb302-d467-4fde-d7f1-c43639107abd"
      },
      "execution_count": 47,
      "outputs": [
        {
          "output_type": "stream",
          "name": "stdout",
          "text": [
            "Toạ độ điểm sau khi biến đổi (trong cơ sở xoay):\n",
            "[[3.53553391]\n",
            " [0.70710678]]\n"
          ]
        }
      ]
    },
    {
      "cell_type": "code",
      "source": [
        "import sympy as sp\n",
        "def T(v1, v2):\n",
        "    return (v1 - v2, v1 + 2*v2)\n",
        "u = sp.Matrix([1, 2])\n",
        "v = sp.Matrix([3, -1])\n",
        "c = 4\n",
        "T_u = sp.Matrix(T(*u))\n",
        "T_v = sp.Matrix(T(*v))\n",
        "T_u_plus_v = sp.Matrix(T(*(u + v)))\n",
        "T_u_plus_T_v = T_u + T_v\n",
        "T_cu = sp.Matrix(T(*(c * u)))\n",
        "c_T_u = c * T_u\n",
        "print(\"T(u + v) == T(u) + T(v)?\", T_u_plus_v == T_u_plus_T_v)\n",
        "print(\"T(c * u) == c * T(u)?\", T_cu == c_T_u)"
      ],
      "metadata": {
        "colab": {
          "base_uri": "https://localhost:8080/"
        },
        "id": "UmdaZz4Auh08",
        "outputId": "d423e0dc-8525-49cf-c7b0-da0d66f57abc"
      },
      "execution_count": 48,
      "outputs": [
        {
          "output_type": "stream",
          "name": "stdout",
          "text": [
            "T(u + v) == T(u) + T(v)? True\n",
            "T(c * u) == c * T(u)? True\n"
          ]
        }
      ]
    },
    {
      "cell_type": "code",
      "source": [
        "import sympy as sp\n",
        "import numpy as np\n",
        "a, b, c = 13, -10, 13\n",
        "A = sp.Matrix([[a, b/2],\n",
        "               [b/2, c]])\n",
        "eigenvals = A.eigenvals()\n",
        "print(\"Trị riêng λ1, λ2 là:\")\n",
        "sp.pprint(eigenvals)\n",
        "A_np = np.array([[a, b/2], [b/2, c]])\n",
        "eigvals, eigvecs = np.linalg.eigh(A_np)\n",
        "theta_rad = np.arctan2(eigvecs[1, 0], eigvecs[0, 0])\n",
        "theta_deg = np.degrees(theta_rad)\n",
        "print(f\"Góc xoay là: {theta_deg:.2f} độ\")"
      ],
      "metadata": {
        "colab": {
          "base_uri": "https://localhost:8080/"
        },
        "id": "i6ZOMxP-ukR0",
        "outputId": "fa1f8a84-6cd9-4527-91fa-a237f3954c7f"
      },
      "execution_count": 49,
      "outputs": [
        {
          "output_type": "stream",
          "name": "stdout",
          "text": [
            "Trị riêng λ1, λ2 là:\n",
            "{8.0: 1, 18.0: 1}\n",
            "Góc xoay là: -135.00 độ\n"
          ]
        }
      ]
    },
    {
      "cell_type": "code",
      "source": [
        "import numpy as np\n",
        "import sympy as sp\n",
        "a, b, c = 13, -10, 13\n",
        "d, e, f = 0, 0, -72\n",
        "A = np.array([[a, b/2], [b/2, c]])\n",
        "eigvals, eigvecs = np.linalg.eigh(A)\n",
        "print(\"Trị riêng (λ1, λ2):\", eigvals)\n",
        "theta = np.arctan2(eigvecs[1, 0], eigvecs[0, 0])\n",
        "theta_deg = np.degrees(theta)\n",
        "print(f\"Góc xoay: {theta_deg:.2f} độ\")\n",
        "x, y = sp.symbols('x y')\n",
        "cos_theta = sp.sqrt(2)/2\n",
        "sin_theta = cos_theta\n",
        "x_new = cos_theta * x - sin_theta * y\n",
        "y_new = sin_theta * x + cos_theta * y\n",
        "expr = 13 * x**2 - 10 * x * y + 13 * y**2 - 72\n",
        "expr_rotated = expr.subs({x: x_new, y: y_new})\n",
        "expr_rotated = sp.simplify(expr_rotated)\n",
        "print(\"Phương trình sau khi xoay:\")\n",
        "sp.pprint(expr_rotated)\n",
        "expr_normalized = sp.Eq(expr_rotated, 0)\n",
        "sp.pprint(expr_normalized)"
      ],
      "metadata": {
        "colab": {
          "base_uri": "https://localhost:8080/"
        },
        "id": "qIq7KxDpvGQU",
        "outputId": "156842d4-df09-4b2c-a220-8014989a751e"
      },
      "execution_count": 50,
      "outputs": [
        {
          "output_type": "stream",
          "name": "stdout",
          "text": [
            "Trị riêng (λ1, λ2): [ 8. 18.]\n",
            "Góc xoay: -135.00 độ\n",
            "Phương trình sau khi xoay:\n",
            "          2                                                    2     \n",
            "13⋅(x + y)    5⋅√2⋅(x + y)⋅(-x + √2⋅x - y)   13⋅(-x + √2⋅x - y)      \n",
            "─────────── - ──────────────────────────── + ─────────────────── - 72\n",
            "     2                     2                          4              \n",
            "          2                                                    2         \n",
            "13⋅(x + y)    5⋅√2⋅(x + y)⋅(-x + √2⋅x - y)   13⋅(-x + √2⋅x - y)          \n",
            "─────────── - ──────────────────────────── + ─────────────────── - 72 = 0\n",
            "     2                     2                          4                  \n"
          ]
        }
      ]
    }
  ]
}