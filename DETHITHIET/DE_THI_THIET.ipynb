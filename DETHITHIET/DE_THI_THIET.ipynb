{
  "nbformat": 4,
  "nbformat_minor": 0,
  "metadata": {
    "colab": {
      "provenance": []
    },
    "kernelspec": {
      "name": "python3",
      "display_name": "Python 3"
    },
    "language_info": {
      "name": "python"
    }
  },
  "cells": [
    {
      "cell_type": "code",
      "execution_count": 2,
      "metadata": {
        "colab": {
          "base_uri": "https://localhost:8080/"
        },
        "id": "e-1E6ZMFk1O3",
        "outputId": "a899330a-9357-4590-92cd-3e31652f523f"
      },
      "outputs": [
        {
          "output_type": "stream",
          "name": "stdout",
          "text": [
            "a) A + B = [2 3 1 6]\n",
            "   2A + 3B = [ 3 11  2 14]\n",
            "\n",
            "b) A · B = -5\n",
            "   Góc giữa A và B = 99.594 độ\n",
            "\n",
            "c) C * C^T =\n",
            "[[14 -8 13]\n",
            " [-8 21 -2]\n",
            " [13 -2 29]]\n"
          ]
        }
      ],
      "source": [
        "import numpy as np\n",
        "import math\n",
        "A = np.array([3, -2, 1, 4])\n",
        "B = np.array([-1, 5, 0, 2])\n",
        "C = np.array([[2, -1, 3],\n",
        "              [1, 4, -2],\n",
        "              [0, 2, 5]])\n",
        "sum_AB = A + B\n",
        "expr = 2 * A + 3 * B\n",
        "print(\"a) A + B =\", sum_AB)\n",
        "print(\"   2A + 3B =\", expr)\n",
        "dot_product = np.dot(A, B)\n",
        "norm_A = np.linalg.norm(A)\n",
        "norm_B = np.linalg.norm(B)\n",
        "cos_theta = dot_product / (norm_A * norm_B)\n",
        "angle_deg = math.degrees(math.acos(cos_theta))\n",
        "print(\"\\nb) A · B =\", dot_product)\n",
        "print(\"   Góc giữa A và B =\", round(angle_deg, 3), \"độ\")\n",
        "C_transpose = C.T\n",
        "product = np.dot(C, C_transpose)\n",
        "print(\"\\nc) C * C^T =\")\n",
        "print(product)"
      ]
    },
    {
      "cell_type": "code",
      "source": [
        "import numpy as np\n",
        "M = np.array([\n",
        "    [2, -1, 3, 0],\n",
        "    [1, 4, -2, 5],\n",
        "    [0, 2, 6, -3],\n",
        "    [-1, 0, 1, 4]\n",
        "])\n",
        "N = np.array([\n",
        "    [1, 3, -2, 0],\n",
        "    [4, -1, 5, 2],\n",
        "    [0, 2, 3, -1],\n",
        "    [-3, 1, 0, 4]\n",
        "])\n",
        "product = np.dot(M, N)\n",
        "print(\"a) M × N =\")\n",
        "print(product)\n",
        "if M.shape[0] == M.shape[1]:\n",
        "    det_M = np.linalg.det(M)\n",
        "    print(\"\\nb) Định thức của M =\", round(det_M, 3))\n",
        "else:\n",
        "    print(\"\\nb) Không thể tính định thức vì M không phải là ma trận vuông.\")\n",
        "rank_N = np.linalg.matrix_rank(N)\n",
        "print(\"\\nc) Hạng của ma trận N =\", rank_N)"
      ],
      "metadata": {
        "colab": {
          "base_uri": "https://localhost:8080/"
        },
        "id": "9PGKUvFylogV",
        "outputId": "4ffc152e-e84f-44d9-cca2-e59cb69d0a92"
      },
      "execution_count": 3,
      "outputs": [
        {
          "output_type": "stream",
          "name": "stdout",
          "text": [
            "a) M × N =\n",
            "[[ -2  13   0  -5]\n",
            " [  2   0  12  30]\n",
            " [ 17   7  28 -14]\n",
            " [-13   3   5  15]]\n",
            "\n",
            "b) Định thức của M = 409.0\n",
            "\n",
            "c) Hạng của ma trận N = 4\n"
          ]
        }
      ]
    },
    {
      "cell_type": "code",
      "source": [
        "import numpy as np\n",
        "P = np.array([\n",
        "    [3, -1, 0, 2],\n",
        "    [1, 4, -2, 0],\n",
        "    [0, 1, 5, -1],\n",
        "    [2, 0, 1, 3]\n",
        "])\n",
        "b = np.array([6, 8, 3, 7])\n",
        "try:\n",
        "    P_inv = np.linalg.inv(P)\n",
        "    print(\"a) Ma trận nghịch đảo của P:\")\n",
        "    print(np.round(P_inv, 3))\n",
        "except np.linalg.LinAlgError:\n",
        "    print(\"a) Ma trận P không khả nghịch.\")\n",
        "x = np.dot(P_inv, b)\n",
        "print(\"\\nb) Nghiệm của hệ phương trình:\")\n",
        "print(np.round(x, 3))\n",
        "b_check = np.dot(P, x)\n",
        "print(\"\\nc) Kiểm tra P * x:\")\n",
        "print(np.round(b_check, 3))\n",
        "print(\"So sánh với vector b gốc:\", b)"
      ],
      "metadata": {
        "colab": {
          "base_uri": "https://localhost:8080/"
        },
        "id": "xCvjER7MnH9_",
        "outputId": "214f4d07-a79b-4fd6-d30c-b98d01da175e"
      },
      "execution_count": 5,
      "outputs": [
        {
          "output_type": "stream",
          "name": "stdout",
          "text": [
            "a) Ma trận nghịch đảo của P:\n",
            "[[ 0.5    0.1    0.1   -0.3  ]\n",
            " [-0.143  0.2    0.057  0.114]\n",
            " [-0.036 -0.05   0.164  0.079]\n",
            " [-0.321 -0.05  -0.121  0.507]]\n",
            "\n",
            "b) Nghiệm của hệ phương trình:\n",
            "[2.    1.714 0.429 0.857]\n",
            "\n",
            "c) Kiểm tra P * x:\n",
            "[6. 8. 3. 7.]\n",
            "So sánh với vector b gốc: [6 8 3 7]\n"
          ]
        }
      ]
    },
    {
      "cell_type": "code",
      "source": [
        "import numpy as np\n",
        "Q = np.array([\n",
        "    [5, -2, 1],\n",
        "    [0, 3, -1],\n",
        "    [2, 0, 4]\n",
        "])\n",
        "eigenvalues, eigenvectors = np.linalg.eig(Q)\n",
        "print(\"a) Các giá trị riêng của Q:\")\n",
        "print(np.round(eigenvalues, 3))\n",
        "print(\"\\nb) Các vector riêng (cột, chưa chuẩn hóa):\")\n",
        "print(np.round(eigenvectors, 3))\n",
        "normalized_vectors = eigenvectors / np.linalg.norm(eigenvectors, axis=0)\n",
        "print(\"\\nc) Các vector riêng đã chuẩn hóa:\")\n",
        "print(np.round(normalized_vectors, 3))\n"
      ],
      "metadata": {
        "colab": {
          "base_uri": "https://localhost:8080/"
        },
        "id": "z0kXd29umees",
        "outputId": "ea1e0ef4-70c6-4a13-c519-b5fcf4c912b4"
      },
      "execution_count": 4,
      "outputs": [
        {
          "output_type": "stream",
          "name": "stdout",
          "text": [
            "a) Các giá trị riêng của Q:\n",
            "[6.355+0.j    2.822+1.077j 2.822-1.077j]\n",
            "\n",
            "b) Các vector riêng (cột, chưa chuẩn hóa):\n",
            "[[ 0.748+0.j    -0.374+0.342j -0.374-0.342j]\n",
            " [-0.189+0.j     0.095+0.574j  0.095-0.574j]\n",
            " [ 0.636+0.j     0.636+0.j     0.636-0.j   ]]\n",
            "\n",
            "c) Các vector riêng đã chuẩn hóa:\n",
            "[[ 0.748+0.j    -0.374+0.342j -0.374-0.342j]\n",
            " [-0.189+0.j     0.095+0.574j  0.095-0.574j]\n",
            " [ 0.636+0.j     0.636+0.j     0.636-0.j   ]]\n"
          ]
        }
      ]
    },
    {
      "cell_type": "code",
      "source": [
        "import numpy as np\n",
        "R = np.array([\n",
        "    [4, -1, 2],\n",
        "    [1, 3, -2],\n",
        "    [0, 2, 5]\n",
        "])\n",
        "b = np.array([12, 5, 9])\n",
        "x = np.linalg.solve(R, b)\n",
        "print(\"a) Nghiệm của hệ Rx = b là:\")\n",
        "print(np.round(x, 3))\n",
        "try:\n",
        "    R_inv = np.linalg.inv(R)\n",
        "    x_inv = np.dot(R_inv, b)\n",
        "    print(\"\\nb) Ma trận R khả nghịch.\")\n",
        "    print(\"   Nghiệm tìm bằng R⁻¹ * b là:\")\n",
        "    print(np.round(x_inv, 3))\n",
        "    print(\"   So sánh với np.linalg.solve:\", np.allclose(x, x_inv))\n",
        "except np.linalg.LinAlgError:\n",
        "    print(\"\\nb) Ma trận R không khả nghịch.\")\n",
        "fro_norm = np.linalg.norm(R, 'fro')\n",
        "print(\"\\nc) Chuẩn Frobenius của ma trận R là:\", round(fro_norm, 3))"
      ],
      "metadata": {
        "colab": {
          "base_uri": "https://localhost:8080/"
        },
        "id": "DDL8PXR2nOwe",
        "outputId": "acad807f-7aab-4f77-e021-a0c0f21eadba"
      },
      "execution_count": 6,
      "outputs": [
        {
          "output_type": "stream",
          "name": "stdout",
          "text": [
            "a) Nghiệm của hệ Rx = b là:\n",
            "[2.788 1.529 1.188]\n",
            "\n",
            "b) Ma trận R khả nghịch.\n",
            "   Nghiệm tìm bằng R⁻¹ * b là:\n",
            "[2.788 1.529 1.188]\n",
            "   So sánh với np.linalg.solve: True\n",
            "\n",
            "c) Chuẩn Frobenius của ma trận R là: 8.0\n"
          ]
        }
      ]
    }
  ]
}