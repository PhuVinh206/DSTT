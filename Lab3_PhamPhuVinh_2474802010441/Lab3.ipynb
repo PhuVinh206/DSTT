{
  "nbformat": 4,
  "nbformat_minor": 0,
  "metadata": {
    "colab": {
      "provenance": []
    },
    "kernelspec": {
      "name": "python3",
      "display_name": "Python 3"
    },
    "language_info": {
      "name": "python"
    }
  },
  "cells": [
    {
      "cell_type": "code",
      "source": [
        "from scipy import linalg\n",
        "import numpy as np\n",
        "a = np.array([1, 2, 3])\n",
        "b = np.array([(1+9j, 2j, 3j), (4j, 5j, 6j)])\n",
        "c = np.array([[ (0.5, 1.5, 10), (3,2,1) ] , [(6,5,4), (7,8,9)]])\n",
        "A = np.matrix(np.random.random( (2,2) ) )\n",
        "B = np.asmatrix(b)\n",
        "C = np.asmatrix(np.random.random( (10,5) ) )\n",
        "D = np.asmatrix([ [4, 3], [2, 6] ])\n",
        "F = np.eye(3, k=1)\n",
        "F1 = np.eye(3, k=0)\n",
        "F2 = np.eye(3, k=-1)\n",
        "E = np.array([1, 2, 3]).reshape(-1, 1)\n",
        "print(\"1/\",a)\n",
        "print(\"2/\",b)\n",
        "print(\"3/\",c)\n",
        "print(\"4/\",A)\n",
        "print(\"5/\",B)\n",
        "print(\"6/\",C)\n",
        "print(\"7/\",D)\n",
        "print(\"8/\",F)\n",
        "print(\"9/\",F1)\n",
        "print(\"10/\",F2)\n",
        "print(\"11/\",np.linalg.matrix_rank(C))\n",
        "print(\"12/\",A.I)\n",
        "print(\"13/\",linalg.inv(A))\n",
        "print(\"14/\",linalg.det(A))\n",
        "print(\"15/\",A.T)\n",
        "print(\"16/\",A.H)\n",
        "print(\"17/\",linalg.solve(A, b))\n",
        "print(\"18/\",np.asmatrix(a).T )\n",
        "print(\"19/\",linalg.lstsq(F, E))\n",
        "print(\"20/\",np.add(A, D))\n",
        "print(\"21/\",np.subtract(A, D))\n",
        "print(\"22/\",np.divide(A, D) )\n",
        "print(\"23/\",A @ D )\n",
        "print(\"24/\",np.multiply(D, A))\n",
        "print(\"25/\",np.dot(A, D))\n",
        "print(\"26/\",np.vdot(A, D))\n",
        "print(\"27/\",linalg.expm(A))\n",
        "print(\"28/\",linalg.logm(A))"
      ],
      "metadata": {
        "colab": {
          "base_uri": "https://localhost:8080/"
        },
        "id": "AXwP_h-TVen3",
        "outputId": "9913e967-8159-4b89-82ae-554da22df404"
      },
      "execution_count": null,
      "outputs": [
        {
          "output_type": "stream",
          "name": "stdout",
          "text": [
            "1/ [1 2 3]\n",
            "2/ [[1.+9.j 0.+2.j 0.+3.j]\n",
            " [0.+4.j 0.+5.j 0.+6.j]]\n",
            "3/ [[[ 0.5  1.5 10. ]\n",
            "  [ 3.   2.   1. ]]\n",
            "\n",
            " [[ 6.   5.   4. ]\n",
            "  [ 7.   8.   9. ]]]\n",
            "4/ [[0.6626619  0.548989  ]\n",
            " [0.38037059 0.51277982]]\n",
            "5/ [[1.+9.j 0.+2.j 0.+3.j]\n",
            " [0.+4.j 0.+5.j 0.+6.j]]\n",
            "6/ [[0.32122363 0.11121146 0.43660941 0.43703246 0.07160009]\n",
            " [0.50197976 0.51525428 0.05038205 0.10604328 0.38234218]\n",
            " [0.68401699 0.84486267 0.73894573 0.93549753 0.52321098]\n",
            " [0.31525724 0.22865047 0.56675212 0.90384669 0.84271302]\n",
            " [0.26846254 0.1461211  0.7963043  0.96409869 0.02862707]\n",
            " [0.35124565 0.99700724 0.61488416 0.75803492 0.11315082]\n",
            " [0.09288579 0.20929659 0.89042993 0.36541763 0.52924679]\n",
            " [0.88063574 0.84714855 0.21720777 0.48525095 0.76152441]\n",
            " [0.56370255 0.77725717 0.00839333 0.3033376  0.70502884]\n",
            " [0.17898459 0.17723098 0.2696624  0.62422267 0.48126301]]\n",
            "7/ [[4 3]\n",
            " [2 6]]\n",
            "8/ [[0. 1. 0.]\n",
            " [0. 0. 1.]\n",
            " [0. 0. 0.]]\n",
            "9/ [[1. 0. 0.]\n",
            " [0. 1. 0.]\n",
            " [0. 0. 1.]]\n",
            "10/ [[0. 0. 0.]\n",
            " [1. 0. 0.]\n",
            " [0. 1. 0.]]\n",
            "11/ 5\n",
            "12/ [[ 3.91493604 -4.19138339]\n",
            " [-2.90402713  5.05924539]]\n",
            "13/ [[ 3.91493604 -4.19138339]\n",
            " [-2.90402713  5.05924539]]\n",
            "14/ 0.13098038304978943\n",
            "15/ [[0.6626619  0.38037059]\n",
            " [0.548989   0.51277982]]\n",
            "16/ [[0.6626619  0.38037059]\n",
            " [0.548989   0.51277982]]\n",
            "17/ [[ 3.91493604+18.46889085j  0.        -13.12704484j\n",
            "   0.        -13.40349218j]\n",
            " [-2.90402713 -5.89926259j  0.        +19.48817268j\n",
            "   0.        +21.64339094j]]\n",
            "18/ [[1]\n",
            " [2]\n",
            " [3]]\n",
            "19/ (array([[0.],\n",
            "       [1.],\n",
            "       [2.]]), array([], dtype=float64), 2, array([1., 1., 0.]))\n",
            "20/ [[4.6626619  3.548989  ]\n",
            " [2.38037059 6.51277982]]\n",
            "21/ [[-3.3373381  -2.451011  ]\n",
            " [-1.61962941 -5.48722018]]\n",
            "22/ [[0.16566547 0.18299633]\n",
            " [0.19018529 0.0854633 ]]\n",
            "23/ [[3.7486256  5.2819197 ]\n",
            " [2.54704199 4.21779069]]\n",
            "24/ [[2.6506476  1.646967  ]\n",
            " [0.76074117 3.07667894]]\n",
            "25/ [[3.7486256  5.2819197 ]\n",
            " [2.54704199 4.21779069]]\n",
            "26/ [[2.6506476]]\n",
            "27/ [[2.13609158 1.02381023]\n",
            " [0.70935355 1.85657632]]\n",
            "28/ [[-0.84385456  1.26366297]\n",
            " [ 0.87553708 -1.18885315]]\n"
          ]
        }
      ]
    },
    {
      "cell_type": "code",
      "source": [],
      "metadata": {
        "id": "OgmlcRbkgIwH"
      },
      "execution_count": null,
      "outputs": []
    },
    {
      "cell_type": "code",
      "source": [
        "from scipy import linalg\n",
        "import numpy as np\n",
        "A = np.array([ [0,1], [1,0]])\n",
        "print(\"1/\",A)\n",
        "temp = A.dot(A)\n",
        "print(\"2/\",temp)\n",
        "k = 6\n",
        "for i in range(k-1):\n",
        " temp = temp.dot(A)\n",
        " print (\"3/\",temp)\n",
        " print('---')\n",
        " B = np.array([ [0,-1], [-1,0]])\n",
        " print(\"4/\",B)\n",
        " temp = B.dot(B)\n",
        " print(\"5/\",temp)\n"
      ],
      "metadata": {
        "colab": {
          "base_uri": "https://localhost:8080/"
        },
        "id": "pALdZNCZWVrQ",
        "outputId": "b4dda9d4-e0dd-4a38-a8e9-9d5ff4242b5c"
      },
      "execution_count": null,
      "outputs": [
        {
          "output_type": "stream",
          "name": "stdout",
          "text": [
            "1/ [[0 1]\n",
            " [1 0]]\n",
            "2/ [[1 0]\n",
            " [0 1]]\n",
            "3/ [[0 1]\n",
            " [1 0]]\n",
            "---\n",
            "[[ 0 -1]\n",
            " [-1  0]]\n",
            "3/ [[1 0]\n",
            " [0 1]]\n",
            "---\n",
            "[[ 0 -1]\n",
            " [-1  0]]\n",
            "3/ [[0 1]\n",
            " [1 0]]\n",
            "---\n",
            "[[ 0 -1]\n",
            " [-1  0]]\n",
            "3/ [[1 0]\n",
            " [0 1]]\n",
            "---\n",
            "[[ 0 -1]\n",
            " [-1  0]]\n",
            "3/ [[0 1]\n",
            " [1 0]]\n",
            "---\n",
            "[[ 0 -1]\n",
            " [-1  0]]\n"
          ]
        }
      ]
    },
    {
      "cell_type": "code",
      "source": [
        "from scipy import linalg\n",
        "import numpy as np\n",
        "k = 5\n",
        "for i in range(k-1):\n",
        "  temp = temp.dot(B)\n",
        "  print (\"6/\",temp)\n",
        "  print('---')\n",
        "C = np.array([ [1, 0, 0], [0, 0.5, 1], [0, 0, 0.5] ])\n",
        "print(\"7/\",C)\n",
        "temp = C.dot(C) # tính toan lần thứ 1\n",
        "print(\"8/\",temp)\n",
        "k= 1000\n",
        "for i in range(k-1):\n",
        " temp = temp.dot(C)\n",
        "print(\"9/\",temp)\n",
        "k= 1000\n",
        "for i in range(k-1):\n",
        " temp = temp.dot(C)\n",
        "print(\"10/\",temp)\n",
        "M = np.array([ [0.8, 0.3], [0.2, 0.7]])\n",
        "MM = M.dot(M) # tính M2, nghĩa là M2\n",
        "print (\"11/\",MM)\n",
        "MM = M.dot(M) # tính M3\n",
        "print (\"12/\",MM)\n",
        "for i in range(100): # tính các M^ khác.\n",
        " MM = MM.dot(M)\n",
        "print (\"13/\",MM)\n"
      ],
      "metadata": {
        "colab": {
          "base_uri": "https://localhost:8080/"
        },
        "id": "a1io_1VAbzNj",
        "outputId": "12791747-d152-4d8a-900d-47751d8d3658"
      },
      "execution_count": null,
      "outputs": [
        {
          "output_type": "stream",
          "name": "stdout",
          "text": [
            "6/ [[-1  0]\n",
            " [ 0 -1]]\n",
            "---\n",
            "6/ [[0 1]\n",
            " [1 0]]\n",
            "---\n",
            "6/ [[-1  0]\n",
            " [ 0 -1]]\n",
            "---\n",
            "6/ [[0 1]\n",
            " [1 0]]\n",
            "---\n",
            "7/ [[1.  0.  0. ]\n",
            " [0.  0.5 1. ]\n",
            " [0.  0.  0.5]]\n",
            "8/ [[1.   0.   0.  ]\n",
            " [0.   0.25 1.  ]\n",
            " [0.   0.   0.25]]\n",
            "9/ [[1.00000000e+000 0.00000000e+000 0.00000000e+000]\n",
            " [0.00000000e+000 4.66631809e-302 9.34196882e-299]\n",
            " [0.00000000e+000 0.00000000e+000 4.66631809e-302]]\n",
            "10/ [[1. 0. 0.]\n",
            " [0. 0. 0.]\n",
            " [0. 0. 0.]]\n",
            "11/ [[0.7  0.45]\n",
            " [0.3  0.55]]\n",
            "12/ [[0.7  0.45]\n",
            " [0.3  0.55]]\n",
            "13/ [[0.6 0.6]\n",
            " [0.4 0.4]]\n"
          ]
        }
      ]
    },
    {
      "cell_type": "code",
      "source": [
        "from scipy import linalg\n",
        "import numpy as np\n",
        "M = np.array([ [0.8, 0.3], [0.2, 0.7]])\n",
        "P, L, U = linalg.lu(M)\n",
        "print (\"1/\",P)\n",
        "print (\"2/\",L)\n",
        "print (\"3/\",U)\n",
        "print(\"4/\",P @ L @ U)\n"
      ],
      "metadata": {
        "colab": {
          "base_uri": "https://localhost:8080/"
        },
        "id": "Bc9yLtabbHeS",
        "outputId": "b8d6038f-ba7f-4c43-b643-3859292a11ad"
      },
      "execution_count": null,
      "outputs": [
        {
          "output_type": "stream",
          "name": "stdout",
          "text": [
            "1/ [[1. 0.]\n",
            " [0. 1.]]\n",
            "2/ [[1.   0.  ]\n",
            " [0.25 1.  ]]\n",
            "3/ [[0.8   0.3  ]\n",
            " [0.    0.625]]\n",
            "4/ [[0.8 0.3]\n",
            " [0.2 0.7]]\n"
          ]
        }
      ]
    },
    {
      "cell_type": "code",
      "source": [
        "A = np.array([ [0,1,0,1],[0,0,1,0],[1,0,0,1],[1,1,0,0]])\n",
        "temp = A.dot(A)\n",
        "print(\"1/\",temp)\n",
        "temp = temp.dot(A)\n",
        "print(\"2/\",temp)\n",
        "sumA = A\n",
        "temp = A.dot(A)\n",
        "k = 3\n",
        "sumA = sumA + temp\n",
        "for i in range(1, k-1):\n",
        " temp = temp.dot(A)\n",
        " sumA = sumA + temp\n",
        "print (\"3/\",temp)\n",
        "print (\"4/\",sumA)"
      ],
      "metadata": {
        "colab": {
          "base_uri": "https://localhost:8080/"
        },
        "id": "6Hp5nIDCekhZ",
        "outputId": "166e7c07-a856-4947-e82f-556f63277c2a"
      },
      "execution_count": null,
      "outputs": [
        {
          "output_type": "stream",
          "name": "stdout",
          "text": [
            "1/ [[1 1 1 0]\n",
            " [1 0 0 1]\n",
            " [1 2 0 1]\n",
            " [0 1 1 1]]\n",
            "2/ [[1 1 1 2]\n",
            " [1 2 0 1]\n",
            " [1 2 2 1]\n",
            " [2 1 1 1]]\n",
            "3/ [[1 1 1 2]\n",
            " [1 2 0 1]\n",
            " [1 2 2 1]\n",
            " [2 1 1 1]]\n",
            "4/ [[2 3 2 3]\n",
            " [2 2 1 2]\n",
            " [3 4 2 3]\n",
            " [3 3 2 2]]\n"
          ]
        }
      ]
    },
    {
      "cell_type": "code",
      "source": [
        "import numpy as np\n",
        "A = np.array([[2, 1, 1],\n",
        "              [1, 3, 2],\n",
        "              [1, 0, 0]])\n",
        "print(\"Ma trận A:\")\n",
        "print(A)\n",
        "det_A = np.linalg.det(A)\n",
        "print(f\"Định thức của A: {det_A}\")\n",
        "assert det_A != 0, \"Ma trận không khả nghịch!\"\n",
        "text = \"NguyenVanA\"\n",
        "print(f\"Chuỗi gốc: {text}\")\n",
        "def text_to_vector(text):\n",
        "    vec = [ord(c) for c in text]\n",
        "    while len(vec) % 3 != 0:\n",
        "        vec.append(0)\n",
        "    return np.array(vec).reshape(-1, 3).T\n",
        "P = text_to_vector(text)\n",
        "print(\"Vector P (mã ASCII):\")\n",
        "print(P)\n",
        "C = A @ P\n",
        "print(\"Bản mã C:\")\n",
        "print(C)\n",
        "A_inv = np.linalg.inv(A)\n",
        "P_decoded = A_inv @ C\n",
        "decoded_text = ''.join([chr(round(num)) for num in P_decoded.T.flatten() if round(num) > 0])\n",
        "print(\"Giải mã văn bản:\")\n",
        "print(decoded_text)\n",
        "import numpy as np\n",
        "def continued_fraction_pq(coeffs):\n",
        "    print(f\"Chuỗi hệ số: {coeffs}\")\n",
        "    M = np.array([[coeffs[0], 1],\n",
        "                  [1, 0]])\n",
        "    print(f\"M0:\\n{M}\")\n",
        "\n",
        "    for i, c in enumerate(coeffs[1:], 1):\n",
        "        M_step = np.array([[c, 1],\n",
        "                           [1, 0]])\n",
        "        print(f\"Bước {i}: Nhân với\\n{M_step}\")\n",
        "        M = M @ M_step\n",
        "        print(f\"Kết quả sau bước {i}:\\n{M}\")\n",
        "    result = M @ np.array([1, 0])\n",
        "    pn, qn = result\n",
        "    print(f\"p_n = {pn}, q_n = {qn}\")\n",
        "    return pn, qn\n",
        "coeffs = [3, 1, 2]\n",
        "pn, qn = continued_fraction_pq(coeffs)\n",
        "print(f\"\\n=> Phân số: {pn}/{qn} = {pn / qn}\")\n"
      ],
      "metadata": {
        "colab": {
          "base_uri": "https://localhost:8080/"
        },
        "id": "Q1zzM0fbgLLX",
        "outputId": "5a93aadc-0d34-4020-fc89-6051cf50909a"
      },
      "execution_count": 1,
      "outputs": [
        {
          "output_type": "stream",
          "name": "stdout",
          "text": [
            "Ma trận A:\n",
            "[[2 1 1]\n",
            " [1 3 2]\n",
            " [1 0 0]]\n",
            "Định thức của A: -1.0\n",
            "Chuỗi gốc: NguyenVanA\n",
            "Vector P (mã ASCII):\n",
            "[[ 78 121  86  65]\n",
            " [103 101  97   0]\n",
            " [117 110 110   0]]\n",
            "Bản mã C:\n",
            "[[376 453 379 130]\n",
            " [621 644 597  65]\n",
            " [ 78 121  86  65]]\n",
            "Giải mã văn bản:\n",
            "NguyenVanA\n",
            "Chuỗi hệ số: [3, 1, 2]\n",
            "M0:\n",
            "[[3 1]\n",
            " [1 0]]\n",
            "Bước 1: Nhân với\n",
            "[[1 1]\n",
            " [1 0]]\n",
            "Kết quả sau bước 1:\n",
            "[[4 3]\n",
            " [1 1]]\n",
            "Bước 2: Nhân với\n",
            "[[2 1]\n",
            " [1 0]]\n",
            "Kết quả sau bước 2:\n",
            "[[11  4]\n",
            " [ 3  1]]\n",
            "p_n = 11, q_n = 3\n",
            "\n",
            "=> Phân số: 11/3 = 3.6666666666666665\n"
          ]
        }
      ]
    },
    {
      "cell_type": "code",
      "source": [
        "from fractions import Fraction\n",
        "\n",
        "def continued_fraction(x):\n",
        "    cf = []\n",
        "    while x.denominator != 1:\n",
        "        q = x.numerator // x.denominator\n",
        "        cf.append(q)\n",
        "        x = Fraction(x.denominator, x.numerator - q * x.denominator)\n",
        "    cf.append(x.numerator)\n",
        "    return cf\n",
        "f = Fraction(43, 30)\n",
        "cf = continued_fraction(f)\n",
        "print(\"Phân số liên tục của 43/30 là:\", cf)\n"
      ],
      "metadata": {
        "colab": {
          "base_uri": "https://localhost:8080/"
        },
        "id": "aKm9B96Rgl4R",
        "outputId": "24052efa-eb02-4345-b39c-903860f3ae93"
      },
      "execution_count": null,
      "outputs": [
        {
          "output_type": "stream",
          "name": "stdout",
          "text": [
            "Phân số liên tục của 43/30 là: [1, 2, 3, 4]\n"
          ]
        }
      ]
    }
  ]
}