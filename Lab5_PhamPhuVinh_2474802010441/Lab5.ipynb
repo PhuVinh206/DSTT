{
  "cells": [
    {
      "cell_type": "code",
      "source": [
        "import numpy as np\n",
        "D = np.array([[1,2],[3,4]])\n",
        "np.copyto(E, D)"
      ],
      "metadata": {
        "id": "MZSygr2lZJQn"
      },
      "execution_count": 22,
      "outputs": []
    },
    {
      "cell_type": "code",
      "source": [
        "import numpy as np\n",
        "E = np.array([[1,2],[3,5]])\n",
        "np.copyto(E, D)"
      ],
      "metadata": {
        "id": "7q_7Di7uaaun"
      },
      "execution_count": 23,
      "outputs": []
    },
    {
      "cell_type": "code",
      "source": [
        "print(E)"
      ],
      "metadata": {
        "id": "uFk-1HiPasQy",
        "outputId": "22f6029d-343c-4f21-d315-48b7ca7dced6",
        "colab": {
          "base_uri": "https://localhost:8080/"
        }
      },
      "execution_count": 24,
      "outputs": [
        {
          "output_type": "stream",
          "name": "stdout",
          "text": [
            "[[1 2]\n",
            " [3 4]]\n"
          ]
        }
      ]
    },
    {
      "cell_type": "code",
      "source": [
        "import numpy as np\n",
        "x = np.array([['a', 'b'], ['c', 'd']])\n",
        "y = 'x'\n",
        "C = np.array([[x, y], [1, 2]], dtype=object)\n",
        "print(C)"
      ],
      "metadata": {
        "id": "XfzzvJOXa5En",
        "outputId": "b0f36d17-52f9-4da9-9285-98a640188fbb",
        "colab": {
          "base_uri": "https://localhost:8080/"
        }
      },
      "execution_count": 27,
      "outputs": [
        {
          "output_type": "stream",
          "name": "stdout",
          "text": [
            "[[array([['a', 'b'],\n",
            "         ['c', 'd']], dtype='<U1') 'x']\n",
            " [1 2]]\n"
          ]
        }
      ]
    },
    {
      "cell_type": "code",
      "source": [
        "A = np.matrix([[[1,2],[3,4]],[[5,6],[7,8]]])\n"
      ],
      "metadata": {
        "id": "HwxgMAgvbVQ4",
        "outputId": "eec7c2c1-cbf3-4f12-a7e4-5ae28b8d2582",
        "colab": {
          "base_uri": "https://localhost:8080/",
          "height": 280
        }
      },
      "execution_count": 28,
      "outputs": [
        {
          "output_type": "error",
          "ename": "ValueError",
          "evalue": "matrix must be 2-dimensional",
          "traceback": [
            "\u001b[0;31m---------------------------------------------------------------------------\u001b[0m",
            "\u001b[0;31mValueError\u001b[0m                                Traceback (most recent call last)",
            "\u001b[0;32m/tmp/ipython-input-28-1840044138.py\u001b[0m in \u001b[0;36m<cell line: 0>\u001b[0;34m()\u001b[0m\n\u001b[0;32m----> 1\u001b[0;31m \u001b[0mA\u001b[0m \u001b[0;34m=\u001b[0m \u001b[0mnp\u001b[0m\u001b[0;34m.\u001b[0m\u001b[0mmatrix\u001b[0m\u001b[0;34m(\u001b[0m\u001b[0;34m[\u001b[0m\u001b[0;34m[\u001b[0m\u001b[0;34m[\u001b[0m\u001b[0;36m1\u001b[0m\u001b[0;34m,\u001b[0m\u001b[0;36m2\u001b[0m\u001b[0;34m]\u001b[0m\u001b[0;34m,\u001b[0m\u001b[0;34m[\u001b[0m\u001b[0;36m3\u001b[0m\u001b[0;34m,\u001b[0m\u001b[0;36m4\u001b[0m\u001b[0;34m]\u001b[0m\u001b[0;34m]\u001b[0m\u001b[0;34m,\u001b[0m\u001b[0;34m[\u001b[0m\u001b[0;34m[\u001b[0m\u001b[0;36m5\u001b[0m\u001b[0;34m,\u001b[0m\u001b[0;36m6\u001b[0m\u001b[0;34m]\u001b[0m\u001b[0;34m,\u001b[0m\u001b[0;34m[\u001b[0m\u001b[0;36m7\u001b[0m\u001b[0;34m,\u001b[0m\u001b[0;36m8\u001b[0m\u001b[0;34m]\u001b[0m\u001b[0;34m]\u001b[0m\u001b[0;34m]\u001b[0m\u001b[0;34m)\u001b[0m\u001b[0;34m\u001b[0m\u001b[0;34m\u001b[0m\u001b[0m\n\u001b[0m",
            "\u001b[0;32m/usr/local/lib/python3.11/dist-packages/numpy/matrixlib/defmatrix.py\u001b[0m in \u001b[0;36m__new__\u001b[0;34m(subtype, data, dtype, copy)\u001b[0m\n\u001b[1;32m    150\u001b[0m         \u001b[0mshape\u001b[0m \u001b[0;34m=\u001b[0m \u001b[0marr\u001b[0m\u001b[0;34m.\u001b[0m\u001b[0mshape\u001b[0m\u001b[0;34m\u001b[0m\u001b[0;34m\u001b[0m\u001b[0m\n\u001b[1;32m    151\u001b[0m         \u001b[0;32mif\u001b[0m \u001b[0;34m(\u001b[0m\u001b[0mndim\u001b[0m \u001b[0;34m>\u001b[0m \u001b[0;36m2\u001b[0m\u001b[0;34m)\u001b[0m\u001b[0;34m:\u001b[0m\u001b[0;34m\u001b[0m\u001b[0;34m\u001b[0m\u001b[0m\n\u001b[0;32m--> 152\u001b[0;31m             \u001b[0;32mraise\u001b[0m \u001b[0mValueError\u001b[0m\u001b[0;34m(\u001b[0m\u001b[0;34m\"matrix must be 2-dimensional\"\u001b[0m\u001b[0;34m)\u001b[0m\u001b[0;34m\u001b[0m\u001b[0;34m\u001b[0m\u001b[0m\n\u001b[0m\u001b[1;32m    153\u001b[0m         \u001b[0;32melif\u001b[0m \u001b[0mndim\u001b[0m \u001b[0;34m==\u001b[0m \u001b[0;36m0\u001b[0m\u001b[0;34m:\u001b[0m\u001b[0;34m\u001b[0m\u001b[0;34m\u001b[0m\u001b[0m\n\u001b[1;32m    154\u001b[0m             \u001b[0mshape\u001b[0m \u001b[0;34m=\u001b[0m \u001b[0;34m(\u001b[0m\u001b[0;36m1\u001b[0m\u001b[0;34m,\u001b[0m \u001b[0;36m1\u001b[0m\u001b[0;34m)\u001b[0m\u001b[0;34m\u001b[0m\u001b[0;34m\u001b[0m\u001b[0m\n",
            "\u001b[0;31mValueError\u001b[0m: matrix must be 2-dimensional"
          ]
        }
      ]
    },
    {
      "cell_type": "code",
      "source": [
        "A = np.array([[[1,2],[3,4]],[[5,6],[7,8]]])\n",
        "print(A)"
      ],
      "metadata": {
        "id": "0JWM0QjybaN_",
        "outputId": "a7570290-7299-4617-8b09-a0a5bca3d4d3",
        "colab": {
          "base_uri": "https://localhost:8080/"
        }
      },
      "execution_count": 29,
      "outputs": [
        {
          "output_type": "stream",
          "name": "stdout",
          "text": [
            "[[[1 2]\n",
            "  [3 4]]\n",
            "\n",
            " [[5 6]\n",
            "  [7 8]]]\n"
          ]
        }
      ]
    },
    {
      "cell_type": "code",
      "source": [
        "from numpy import matlib\n",
        "G = matlib.identity(5) # cú pháp: matlib.identity(n)\n",
        "print (G)"
      ],
      "metadata": {
        "id": "SJmvsY7obf2f",
        "outputId": "af739091-99a7-4e1c-c4c5-2f33038535fc",
        "colab": {
          "base_uri": "https://localhost:8080/"
        }
      },
      "execution_count": 30,
      "outputs": [
        {
          "output_type": "stream",
          "name": "stdout",
          "text": [
            "[[1. 0. 0. 0. 0.]\n",
            " [0. 1. 0. 0. 0.]\n",
            " [0. 0. 1. 0. 0.]\n",
            " [0. 0. 0. 1. 0.]\n",
            " [0. 0. 0. 0. 1.]]\n"
          ]
        }
      ]
    },
    {
      "cell_type": "code",
      "source": [
        "H = matlib.randn(3,2) # cú pháp: matlib.randn(*args)\n",
        "print(H)"
      ],
      "metadata": {
        "id": "HyFDgEaEbj5P",
        "outputId": "add5fff1-084e-4fa8-b3b5-02be4cb5f78d",
        "colab": {
          "base_uri": "https://localhost:8080/"
        }
      },
      "execution_count": 31,
      "outputs": [
        {
          "output_type": "stream",
          "name": "stdout",
          "text": [
            "[[-0.73858042 -0.97733389]\n",
            " [ 1.3318182  -0.84844519]\n",
            " [-1.53932418 -1.45564439]]\n"
          ]
        }
      ]
    },
    {
      "cell_type": "code",
      "source": [
        "K = matlib.zeros([4,4]) #  cú pháp: matlib.zeros(shape)\n",
        "print(K)"
      ],
      "metadata": {
        "id": "L6jUzjHabnix",
        "outputId": "657b0b14-74b5-4ebe-d750-ff52e70c8b7d",
        "colab": {
          "base_uri": "https://localhost:8080/"
        }
      },
      "execution_count": 32,
      "outputs": [
        {
          "output_type": "stream",
          "name": "stdout",
          "text": [
            "[[0. 0. 0. 0.]\n",
            " [0. 0. 0. 0.]\n",
            " [0. 0. 0. 0.]\n",
            " [0. 0. 0. 0.]]\n"
          ]
        }
      ]
    },
    {
      "cell_type": "code",
      "source": [
        "import numpy as np\n",
        "c = [3, 7, 15, 1, 292, 1, 1, 1, 2, 1, 3, 1, 14, 2] # thử chạy nhiều lần với dãy c dài khác nhau!\n",
        "M = np.asmatrix([[1,2],[3,4]]) # khởi tạo ma trận 2x2\n",
        "for i in range(len(c)):\n",
        " ci = np.asmatrix([[1,1],[1,0]])\n",
        " ci[0, 0] = c[i]\n",
        " if (i==0):\n",
        "    M = ci\n",
        " else:\n",
        "    M = M.dot(ci)\n",
        "print(M)\n",
        "print(M[0,0]/M[1,0])"
      ],
      "metadata": {
        "id": "xE_eS1JWbp8X",
        "outputId": "74a3aab7-bbcf-4334-a500-71fd59d3d8a0",
        "colab": {
          "base_uri": "https://localhost:8080/"
        }
      },
      "execution_count": 36,
      "outputs": [
        {
          "output_type": "stream",
          "name": "stdout",
          "text": [
            "[[165707065  80143857]\n",
            " [ 52746197  25510582]]\n",
            "3.1415926535897936\n"
          ]
        }
      ]
    },
    {
      "cell_type": "code",
      "source": [
        "import numpy as np\n",
        "X = np.array([[1,1],[1,2],[1,3],[1,4],[1,5]])\n",
        "Y = np.array([[1],[2],[4],[4],[6]])\n",
        "XT = X.T\n",
        "A1 = np.linalg.inv(XT @ X)\n",
        "A2 = XT @ Y\n",
        "A = A1 @ A2\n",
        "print(\"Hệ số hồi quy:\")\n",
        "print(\"a =\", A[0,0])\n",
        "print(\"b =\", A[1,0])"
      ],
      "metadata": {
        "id": "TCyuYXWzcNsX",
        "outputId": "48745fad-b964-4a7c-961c-133665187f6d",
        "colab": {
          "base_uri": "https://localhost:8080/"
        }
      },
      "execution_count": 42,
      "outputs": [
        {
          "output_type": "stream",
          "name": "stdout",
          "text": [
            "Hệ số hồi quy:\n",
            "a = -0.19999999999999662\n",
            "b = 1.2000000000000008\n"
          ]
        }
      ]
    },
    {
      "source": [
        "def bpcuctieu(a):\n",
        "  b = []\n",
        "  o1 = []\n",
        "  for i in range(len(a)):\n",
        "    o1.append(1.0)\n",
        "    b.append((i+1)*1.0)\n",
        "  x = np.array([o1, b])\n",
        "  u = np.dot(x, x.T)\n",
        "  y = np.array(a)\n",
        "  from numpy import linalg\n",
        "  u_1 =np.linalg.inv(u)\n",
        "  v = np.dot(u_1, x)\n",
        "  A = np.dot(v, y)\n",
        "  return A\n",
        "print(bpcuctieu([10.0, 8,7,5,2]))"
      ],
      "cell_type": "code",
      "metadata": {
        "id": "SlNWGnWmfjt3",
        "outputId": "5d2714d9-f830-4b26-bef9-5be01f212d76",
        "colab": {
          "base_uri": "https://localhost:8080/"
        }
      },
      "execution_count": 50,
      "outputs": [
        {
          "output_type": "stream",
          "name": "stdout",
          "text": [
            "[12.1 -1.9]\n"
          ]
        }
      ]
    }
  ],
  "metadata": {
    "colab": {
      "name": "Chào mừng bạn đến với Colab",
      "provenance": []
    },
    "kernelspec": {
      "display_name": "Python 3",
      "name": "python3"
    }
  },
  "nbformat": 4,
  "nbformat_minor": 0
}