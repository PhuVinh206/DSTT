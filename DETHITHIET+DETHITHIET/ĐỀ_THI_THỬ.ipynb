{
  "nbformat": 4,
  "nbformat_minor": 0,
  "metadata": {
    "colab": {
      "provenance": []
    },
    "kernelspec": {
      "name": "python3",
      "display_name": "Python 3"
    },
    "language_info": {
      "name": "python"
    }
  },
  "cells": [
    {
      "cell_type": "markdown",
      "source": [
        "BÀI THI THỬ"
      ],
      "metadata": {
        "id": "3Hh8bctUjE9Y"
      }
    },
    {
      "cell_type": "code",
      "source": [
        "import numpy as np\n",
        "# Câu 1a: Phép toán với vector\n",
        "A = np.array([2, -1, 3, 0])\n",
        "B = np.array([1, 4, -2, 5])\n",
        "tong = A + B\n",
        "bieu_thuc = 3*A - 2*B\n",
        "print(\"Câu 1a:\")\n",
        "print(\"Tổng A + B:\", tong)\n",
        "print(\"Biểu thức 3A - 2B:\", bieu_thuc)"
      ],
      "metadata": {
        "colab": {
          "base_uri": "https://localhost:8080/"
        },
        "id": "wC_CAcPfjbj1",
        "outputId": "7dd7ae44-68b2-4be9-c06d-af6ab44dd94e"
      },
      "execution_count": 1,
      "outputs": [
        {
          "output_type": "stream",
          "name": "stdout",
          "text": [
            "Câu 1a:\n",
            "Tổng A + B: [3 3 1 5]\n",
            "Biểu thức 3A - 2B: [  4 -11  13 -10]\n"
          ]
        }
      ]
    },
    {
      "cell_type": "code",
      "source": [
        "# Câu 1b: Tích vô hướng và góc\n",
        "tich_vo_huong = np.dot(A, B)\n",
        "do_dai_A = np.linalg.norm(A)\n",
        "do_dai_B = np.linalg.norm(B)\n",
        "cos_goc = tich_vo_huong / (do_dai_A * do_dai_B)\n",
        "goc_do = np.degrees(np.arccos(cos_goc))\n",
        "print(\"\\nCâu 1b:\")\n",
        "print(\"Tích vô hướng A · B:\", tich_vo_huong)\n",
        "print(\"Góc giữa A và B (độ):\", goc_do)"
      ],
      "metadata": {
        "colab": {
          "base_uri": "https://localhost:8080/"
        },
        "id": "fVnZLz1OkAWc",
        "outputId": "6812e6d9-6212-4d27-e75a-0b4990c7e5ed"
      },
      "execution_count": 2,
      "outputs": [
        {
          "output_type": "stream",
          "name": "stdout",
          "text": [
            "\n",
            "Câu 1b:\n",
            "Tích vô hướng A · B: -8\n",
            "Góc giữa A và B (độ): 108.3755542856849\n"
          ]
        }
      ]
    },
    {
      "cell_type": "code",
      "source": [
        "# Câu 1c: Tính C^T C\n",
        "C = np.array([[1, 2, -1], [0, 3, 4], [2, -1, 0]])\n",
        "CTC = np.dot(C.T, C)\n",
        "print(\"\\nCâu 1c:\")\n",
        "print(\"Ma trận C^T C:\")\n",
        "print(CTC)"
      ],
      "metadata": {
        "colab": {
          "base_uri": "https://localhost:8080/"
        },
        "id": "bK8zU-Q_kT8v",
        "outputId": "6e8db515-cc9c-4cf9-eca3-35ebf940f22b"
      },
      "execution_count": 3,
      "outputs": [
        {
          "output_type": "stream",
          "name": "stdout",
          "text": [
            "\n",
            "Câu 1c:\n",
            "Ma trận C^T C:\n",
            "[[ 5  0 -1]\n",
            " [ 0 14 10]\n",
            " [-1 10 17]]\n"
          ]
        }
      ]
    },
    {
      "cell_type": "code",
      "source": [
        "# Câu 2a: Nhân ma trận\n",
        "M = np.array([[1,2,3,0],[4,5,6,1],[7,8,9,2],[0,1,1,0]])\n",
        "N = np.array([[0,1,2,3],[4,5,6,7],[8,9,10,11],[12,13,14,15]])\n",
        "tich_MN = np.dot(M, N)\n",
        "print(\"\\nCâu 2a:\")\n",
        "print(\"Tích M × N:\")\n",
        "print(tich_MN)"
      ],
      "metadata": {
        "colab": {
          "base_uri": "https://localhost:8080/"
        },
        "id": "wV17ZEP2kVo0",
        "outputId": "ff55b541-112f-4153-dd00-a351cacac84b"
      },
      "execution_count": 4,
      "outputs": [
        {
          "output_type": "stream",
          "name": "stdout",
          "text": [
            "\n",
            "Câu 2a:\n",
            "Tích M × N:\n",
            "[[ 32  38  44  50]\n",
            " [ 80  96 112 128]\n",
            " [128 154 180 206]\n",
            " [ 12  14  16  18]]\n"
          ]
        }
      ]
    },
    {
      "cell_type": "code",
      "source": [
        "# Câu 2b: Định thức\n",
        "dinh_thuc_M = np.linalg.det(M)\n",
        "print(\"\\nCâu 2b:\")\n",
        "print(\"Định thức của M:\", dinh_thuc_M)"
      ],
      "metadata": {
        "colab": {
          "base_uri": "https://localhost:8080/"
        },
        "id": "cHqjudLGkYJV",
        "outputId": "8f18e6d1-d741-473e-e661-e5b645d5bbe8"
      },
      "execution_count": 5,
      "outputs": [
        {
          "output_type": "stream",
          "name": "stdout",
          "text": [
            "\n",
            "Câu 2b:\n",
            "Định thức của M: 6.66133814775094e-16\n"
          ]
        }
      ]
    },
    {
      "cell_type": "code",
      "source": [
        "# Câu 2c: Hạng\n",
        "hang_N = np.linalg.matrix_rank(N)\n",
        "print(\"\\nCâu 2c:\")\n",
        "print(\"Hạng của N:\", hang_N)"
      ],
      "metadata": {
        "colab": {
          "base_uri": "https://localhost:8080/"
        },
        "id": "A7NiVOJ-kal9",
        "outputId": "492436f5-2ef6-4dd0-98f3-df3864b421d9"
      },
      "execution_count": 6,
      "outputs": [
        {
          "output_type": "stream",
          "name": "stdout",
          "text": [
            "\n",
            "Câu 2c:\n",
            "Hạng của N: 2\n"
          ]
        }
      ]
    },
    {
      "cell_type": "code",
      "source": [
        "# Câu 3a: Nghịch đảo ma trận\n",
        "P = np.array([[2,1,0,1],[0,3,1,-1],[1,0,4,2],[0,1,0,3]])\n",
        "P_nghich = np.linalg.inv(P)\n",
        "print(\"\\nCâu 3a:\")\n",
        "print(\"Ma trận nghịch đảo của P:\")\n",
        "print(P_nghich)"
      ],
      "metadata": {
        "colab": {
          "base_uri": "https://localhost:8080/"
        },
        "id": "g4kyiPdkkgAt",
        "outputId": "2264c361-5f27-4722-9fa6-43fb5e4c184e"
      },
      "execution_count": 7,
      "outputs": [
        {
          "output_type": "stream",
          "name": "stdout",
          "text": [
            "\n",
            "Câu 3a:\n",
            "Ma trận nghịch đảo của P:\n",
            "[[ 0.48837209 -0.09302326  0.02325581 -0.20930233]\n",
            " [ 0.03488372  0.27906977 -0.06976744  0.12790698]\n",
            " [-0.11627907  0.06976744  0.23255814 -0.09302326]\n",
            " [-0.01162791 -0.09302326  0.02325581  0.29069767]]\n"
          ]
        }
      ]
    },
    {
      "cell_type": "code",
      "source": [
        "# Câu 3b: Giải hệ Px = b\n",
        "b = np.array([4,7,9,5])\n",
        "x = np.dot(P_nghich, b)\n",
        "print(\"\\nCâu 3b:\")\n",
        "print(\"Nghiệm x của hệ Px = b:\")\n",
        "print(x)"
      ],
      "metadata": {
        "colab": {
          "base_uri": "https://localhost:8080/"
        },
        "id": "DnecVBDgkjaV",
        "outputId": "aa3a39aa-0ee0-4339-d3aa-9c5d844bdbc6"
      },
      "execution_count": 8,
      "outputs": [
        {
          "output_type": "stream",
          "name": "stdout",
          "text": [
            "\n",
            "Câu 3b:\n",
            "Nghiệm x của hệ Px = b:\n",
            "[0.46511628 2.10465116 1.65116279 0.96511628]\n"
          ]
        }
      ]
    },
    {
      "cell_type": "code",
      "source": [
        "# Câu 3c: Kiểm tra nghiệm\n",
        "kiem_tra = np.dot(P, x)\n",
        "print(\"\\nCâu 3c:\")\n",
        "print(\"Kiểm tra P · x có bằng b không:\")\n",
        "print(\"P · x =\", kiem_tra)\n",
        "print(\"b =\", b)"
      ],
      "metadata": {
        "colab": {
          "base_uri": "https://localhost:8080/"
        },
        "id": "ZyX2R--JklmN",
        "outputId": "5a59b872-549d-44c1-9f09-0e103d5f11a0"
      },
      "execution_count": 9,
      "outputs": [
        {
          "output_type": "stream",
          "name": "stdout",
          "text": [
            "\n",
            "Câu 3c:\n",
            "Kiểm tra P · x có bằng b không:\n",
            "P · x = [4. 7. 9. 5.]\n",
            "b = [4 7 9 5]\n"
          ]
        }
      ]
    },
    {
      "cell_type": "code",
      "source": [
        "# Câu 4: Giá trị riêng và vector riêng\n",
        "Q = np.array([[4, -1, 0], [1, 3, -2], [0, 1, 2]])\n",
        "gia_tri_rieng, vector_rieng = np.linalg.eig(Q)\n",
        "vector_chuan = vector_rieng / np.linalg.norm(vector_rieng, axis=0)\n",
        "print(\"\\nCâu 4:\")\n",
        "print(\"Giá trị riêng:\")\n",
        "print(gia_tri_rieng)\n",
        "print(\"Vector riêng:\")\n",
        "print(vector_rieng)\n",
        "print(\"Vector riêng đã chuẩn hóa:\")\n",
        "print(vector_chuan)"
      ],
      "metadata": {
        "colab": {
          "base_uri": "https://localhost:8080/"
        },
        "id": "82qJHVnOkoTe",
        "outputId": "4a4f6364-58a0-45db-e3ed-8069581e2533"
      },
      "execution_count": 10,
      "outputs": [
        {
          "output_type": "stream",
          "name": "stdout",
          "text": [
            "\n",
            "Câu 4:\n",
            "Giá trị riêng:\n",
            "[3.45339765+0.j         2.77330117+1.46771151j 2.77330117-1.46771151j]\n",
            "Vector riêng:\n",
            "[[ 0.83327121+0.j         -0.26206044-0.31354813j -0.26206044+0.31354813j]\n",
            " [ 0.455468  +0.j         -0.78166743+0.j         -0.78166743-0.j        ]\n",
            " [ 0.31338154+0.j         -0.21963176+0.41685708j -0.21963176-0.41685708j]]\n",
            "Vector riêng đã chuẩn hóa:\n",
            "[[ 0.83327121+0.j         -0.26206044-0.31354813j -0.26206044+0.31354813j]\n",
            " [ 0.455468  +0.j         -0.78166743+0.j         -0.78166743+0.j        ]\n",
            " [ 0.31338154+0.j         -0.21963176+0.41685708j -0.21963176-0.41685708j]]\n"
          ]
        }
      ]
    },
    {
      "cell_type": "code",
      "source": [
        "# Câu 5: Ứng dụng thực tế\n",
        "R = np.array([[1,-2,3],[2,0,1],[-1,1,4]])\n",
        "b = np.array([10,8,7])\n",
        "x = np.linalg.solve(R, b)\n",
        "print(\"\\nCâu 5a:\")\n",
        "print(\"Nghiệm x của hệ Rx = b:\")\n",
        "print(x)"
      ],
      "metadata": {
        "colab": {
          "base_uri": "https://localhost:8080/"
        },
        "id": "PsVnI3q-kpb1",
        "outputId": "837055ca-5f16-46e3-b21e-44fc24e67830"
      },
      "execution_count": 11,
      "outputs": [
        {
          "output_type": "stream",
          "name": "stdout",
          "text": [
            "\n",
            "Câu 5a:\n",
            "Nghiệm x của hệ Rx = b:\n",
            "[2.7826087  0.04347826 2.43478261]\n"
          ]
        }
      ]
    },
    {
      "cell_type": "code",
      "source": [
        "# Câu 5b: Giải lại bằng nghịch đảo\n",
        "R_nghich = np.linalg.inv(R)\n",
        "x2 = np.dot(R_nghich, b)\n",
        "print(\"\\nCâu 5b:\")\n",
        "print(\"Nghiệm x2 bằng nghịch đảo:\")\n",
        "print(x2)"
      ],
      "metadata": {
        "colab": {
          "base_uri": "https://localhost:8080/"
        },
        "id": "MrUbaqYskq_V",
        "outputId": "94074e02-37c4-4e89-92aa-6736bab16951"
      },
      "execution_count": 12,
      "outputs": [
        {
          "output_type": "stream",
          "name": "stdout",
          "text": [
            "\n",
            "Câu 5b:\n",
            "Nghiệm x2 bằng nghịch đảo:\n",
            "[2.7826087  0.04347826 2.43478261]\n"
          ]
        }
      ]
    },
    {
      "cell_type": "code",
      "source": [
        "# Câu 5c: Chuẩn Frobenius\n",
        "chuan_fro = np.linalg.norm(R, 'fro')\n",
        "print(\"\\nCâu 5c:\")\n",
        "print(\"Chuẩn Frobenius của R:\", chuan_fro)"
      ],
      "metadata": {
        "colab": {
          "base_uri": "https://localhost:8080/"
        },
        "id": "GDhBlGnSksBP",
        "outputId": "568360d5-788d-4ab4-c5b9-980b0c219c81"
      },
      "execution_count": 13,
      "outputs": [
        {
          "output_type": "stream",
          "name": "stdout",
          "text": [
            "\n",
            "Câu 5c:\n",
            "Chuẩn Frobenius của R: 6.082762530298219\n"
          ]
        }
      ]
    }
  ]
}