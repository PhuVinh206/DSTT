{
  "nbformat": 4,
  "nbformat_minor": 0,
  "metadata": {
    "colab": {
      "provenance": []
    },
    "kernelspec": {
      "name": "python3",
      "display_name": "Python 3"
    },
    "language_info": {
      "name": "python"
    }
  },
  "cells": [
    {
      "cell_type": "markdown",
      "source": [
        "**BÀI TRÊN LỚP**"
      ],
      "metadata": {
        "id": "kxSyXAJVdsss"
      }
    },
    {
      "cell_type": "code",
      "execution_count": 1,
      "metadata": {
        "colab": {
          "base_uri": "https://localhost:8080/"
        },
        "id": "sSaFZ3avX8Dj",
        "outputId": "50ef083c-176a-46e8-b794-e4a35f62a038"
      },
      "outputs": [
        {
          "output_type": "stream",
          "name": "stdout",
          "text": [
            "32\n"
          ]
        }
      ],
      "source": [
        "import numpy as np\n",
        "a = np.array([1, 2, 3])\n",
        "b = np.array([4, 5, 6])\n",
        "tich = np.inner(a, b)\n",
        "print(tich)"
      ]
    },
    {
      "cell_type": "code",
      "source": [
        "print(np.dot(a,b))"
      ],
      "metadata": {
        "colab": {
          "base_uri": "https://localhost:8080/"
        },
        "id": "3mZ5er3xZIOu",
        "outputId": "8aeb9f56-b423-4f9d-fd0e-9915bfb5579f"
      },
      "execution_count": 2,
      "outputs": [
        {
          "output_type": "stream",
          "name": "stdout",
          "text": [
            "32\n"
          ]
        }
      ]
    },
    {
      "cell_type": "code",
      "source": [
        "import numpy as np\n",
        "a = np.array([1,2,-3])\n",
        "np.linalg.norm(a)"
      ],
      "metadata": {
        "colab": {
          "base_uri": "https://localhost:8080/"
        },
        "id": "au5mlAcNZNB0",
        "outputId": "abfc7a48-4f4f-4b07-918c-643a0cc19330"
      },
      "execution_count": 3,
      "outputs": [
        {
          "output_type": "execute_result",
          "data": {
            "text/plain": [
              "np.float64(3.7416573867739413)"
            ]
          },
          "metadata": {},
          "execution_count": 3
        }
      ]
    },
    {
      "cell_type": "code",
      "source": [
        "a = np.array([1,2,-3])\n",
        "np.linalg.norm(a,1)"
      ],
      "metadata": {
        "colab": {
          "base_uri": "https://localhost:8080/"
        },
        "id": "bBIn97KLZR-c",
        "outputId": "1b2b1e92-c821-4bb2-ba94-b39b9d12f4eb"
      },
      "execution_count": 4,
      "outputs": [
        {
          "output_type": "execute_result",
          "data": {
            "text/plain": [
              "np.float64(6.0)"
            ]
          },
          "metadata": {},
          "execution_count": 4
        }
      ]
    },
    {
      "cell_type": "code",
      "source": [
        "import math\n",
        "import numpy as np\n",
        "def chuan(a, n):\n",
        "    return np.linalg.norm(a, ord=n)\n",
        "a = np.array([1, 2, -3])\n",
        "print(chuan(a, 1))\n",
        "print(np.linalg.norm(a, 1))\n",
        "print(chuan(a, 2))\n",
        "print(np.linalg.norm(a, 2))\n",
        "print(chuan(a, 3))\n",
        "print(np.linalg.norm(a, 3))\n",
        "print(chuan(a, 1000))\n",
        "print(np.linalg.norm(a, 1000))"
      ],
      "metadata": {
        "colab": {
          "base_uri": "https://localhost:8080/"
        },
        "id": "CVDwmk7UZl_V",
        "outputId": "043d8805-5d45-4143-ecc1-31c2c352a0a8"
      },
      "execution_count": 8,
      "outputs": [
        {
          "output_type": "stream",
          "name": "stdout",
          "text": [
            "6.0\n",
            "6.0\n",
            "3.7416573867739413\n",
            "3.7416573867739413\n",
            "3.3019272488946263\n",
            "3.3019272488946263\n",
            "inf\n",
            "inf\n"
          ]
        },
        {
          "output_type": "stream",
          "name": "stderr",
          "text": [
            "/usr/local/lib/python3.11/dist-packages/numpy/linalg/_linalg.py:2780: RuntimeWarning: overflow encountered in power\n",
            "  absx **= ord\n"
          ]
        }
      ]
    },
    {
      "cell_type": "code",
      "source": [
        "from scipy import linalg\n",
        "print(linalg.norm(a))\n",
        "print(linalg.norm(a, 100))\n",
        "print(linalg.norm(a, 1000))"
      ],
      "metadata": {
        "colab": {
          "base_uri": "https://localhost:8080/"
        },
        "id": "7ZANE9gVabtG",
        "outputId": "10be697f-ee94-4ea9-c8a1-3bbb69556ad6"
      },
      "execution_count": 9,
      "outputs": [
        {
          "output_type": "stream",
          "name": "stdout",
          "text": [
            "3.7416573867739413\n",
            "3.0\n",
            "inf\n"
          ]
        },
        {
          "output_type": "stream",
          "name": "stderr",
          "text": [
            "/usr/local/lib/python3.11/dist-packages/numpy/linalg/_linalg.py:2780: RuntimeWarning: overflow encountered in power\n",
            "  absx **= ord\n"
          ]
        }
      ]
    },
    {
      "cell_type": "code",
      "source": [
        "import numpy as np\n",
        "m = 10\n",
        "v1 = np.array([5,-4,3])\n",
        "v2 = np.array([4,3,-2])\n",
        "v3 = np.array([-4,-3,-1])\n",
        "v4 = np.array([-9,8,6])\n",
        "mi = np.array([2,5,2,1])\n",
        "M = np.array([v1,v2,v3,v4])\n",
        "MT = M.transpose()\n",
        "print(MT)"
      ],
      "metadata": {
        "colab": {
          "base_uri": "https://localhost:8080/"
        },
        "id": "Rd8WO_uha9gt",
        "outputId": "e4d9f4af-9f74-4531-91ca-1b7a7a2c4cc9"
      },
      "execution_count": 10,
      "outputs": [
        {
          "output_type": "stream",
          "name": "stdout",
          "text": [
            "[[ 5  4 -4 -9]\n",
            " [-4  3 -3  8]\n",
            " [ 3 -2 -1  6]]\n"
          ]
        }
      ]
    },
    {
      "cell_type": "code",
      "source": [
        "v = (1.0/m)*MT.dot(mi)\n",
        "print (v)"
      ],
      "metadata": {
        "colab": {
          "base_uri": "https://localhost:8080/"
        },
        "id": "16zAmewIbLAs",
        "outputId": "3b49cdeb-2b73-475d-c3e0-673121850ead"
      },
      "execution_count": 11,
      "outputs": [
        {
          "output_type": "stream",
          "name": "stdout",
          "text": [
            "[1.3 0.9 0. ]\n"
          ]
        }
      ]
    },
    {
      "cell_type": "code",
      "source": [
        "import numpy as np\n",
        "A = np.array([[0.998, 0.136],\n",
        "              [-0.002, 0.864]])\n",
        "A_100 = np.eye(2)\n",
        "for _ in range(100):\n",
        "    A_100 = np.dot(A_100, A)\n",
        "v0 = np.array([[0.95],\n",
        "               [0.05]])\n",
        "v100 = np.dot(A_100, v0)\n",
        "print(\"Ma trận A^100:\")\n",
        "print(A_100)\n",
        "print(\"Vector trạng thái sau 100 tuần:\")\n",
        "print(v100)"
      ],
      "metadata": {
        "colab": {
          "base_uri": "https://localhost:8080/"
        },
        "id": "jR2i8ClObQ61",
        "outputId": "f11e4e52-2034-4ac7-e2ba-3a95fc7b40a1"
      },
      "execution_count": 13,
      "outputs": [
        {
          "output_type": "stream",
          "name": "stdout",
          "text": [
            "Ma trận A^100:\n",
            "[[ 0.67622106  0.69703713]\n",
            " [-0.01025055 -0.01056553]]\n",
            "Vector trạng thái sau 100 tuần:\n",
            "[[ 0.67726186]\n",
            " [-0.0102663 ]]\n"
          ]
        }
      ]
    },
    {
      "cell_type": "code",
      "source": [
        "import numpy as np\n",
        "A = np.array([[1, -68],\n",
        "              [1, 1]])\n",
        "b = np.array([0, 1])\n",
        "solution = np.linalg.solve(A, b)\n",
        "print(\"Nghiệm của hệ phương trình là:\")\n",
        "print(f\"x = {solution[0]}\")\n",
        "print(f\"y = {solution[1]}\")"
      ],
      "metadata": {
        "colab": {
          "base_uri": "https://localhost:8080/"
        },
        "id": "Gwgy1D6zc_Pt",
        "outputId": "3f7ec63b-576a-42a0-9e31-4858c8995564"
      },
      "execution_count": 14,
      "outputs": [
        {
          "output_type": "stream",
          "name": "stdout",
          "text": [
            "Nghiệm của hệ phương trình là:\n",
            "x = 0.9855072463768116\n",
            "y = 0.014492753623188406\n"
          ]
        }
      ]
    },
    {
      "cell_type": "code",
      "source": [
        "import sympy as sym\n",
        "x, y = sym.symbols('x y')\n",
        "xy = sym.Matrix([x,y]) # khai báo vector: (x, y)T\n",
        "A = sym.Matrix([[1, -68],[1,1]])\n",
        "v = sym.Matrix([0, 1])\n",
        "nghiem = sym.solve([A*xy-v]) # phương trình được chuyển về 1 phía\n",
        "print(sym.pretty(nghiem))"
      ],
      "metadata": {
        "colab": {
          "base_uri": "https://localhost:8080/"
        },
        "id": "7BYSpwqSdadc",
        "outputId": "839e9428-f04f-4812-947a-8af56b04ef18"
      },
      "execution_count": 15,
      "outputs": [
        {
          "output_type": "stream",
          "name": "stdout",
          "text": [
            "⎧   68         ⎫\n",
            "⎨x: ──, y: 1/69⎬\n",
            "⎩   69         ⎭\n"
          ]
        }
      ]
    },
    {
      "cell_type": "code",
      "source": [
        "import numpy as np\n",
        "A = np.array([[1, 6],\n",
        "              [5, 2]])\n",
        "u = np.array([[6],\n",
        "              [-5]])\n",
        "Au = np.dot(A, u)\n",
        "lambda_u = -4 * u\n",
        "print(\"Au =\")\n",
        "print(Au)\n",
        "print(\"-4u =\")\n",
        "print(lambda_u)\n",
        "print(\"Kiểm tra Au == -4u:\")\n",
        "print(np.allclose(Au, lambda_u))"
      ],
      "metadata": {
        "colab": {
          "base_uri": "https://localhost:8080/"
        },
        "id": "8xPqe4Sudgz8",
        "outputId": "2963d038-9da7-4f5a-9858-0ce67bebdeb7"
      },
      "execution_count": 16,
      "outputs": [
        {
          "output_type": "stream",
          "name": "stdout",
          "text": [
            "Au =\n",
            "[[-24]\n",
            " [ 20]]\n",
            "-4u =\n",
            "[[-24]\n",
            " [ 20]]\n",
            "Kiểm tra Au == -4u:\n",
            "True\n"
          ]
        }
      ]
    },
    {
      "cell_type": "code",
      "source": [
        "import sympy\n",
        "x, y, Lambda = sympy.symbols('x y Lambda')\n",
        "I = sympy.eye(2)\n",
        "A = sympy.Matrix([[2,3],[3,-6]])\n",
        "phuongtrinh = sympy.Eq(sympy.det(Lambda*I-A), 0)\n",
        "nghiem = sympy.solve(phuongtrinh)\n",
        "print([sympy.N(phantu,4) for phantu in nghiem])"
      ],
      "metadata": {
        "colab": {
          "base_uri": "https://localhost:8080/"
        },
        "id": "tzGB-dPzeBMH",
        "outputId": "30bd7081-61bb-486c-a7f4-fa86cb323d31"
      },
      "execution_count": 17,
      "outputs": [
        {
          "output_type": "stream",
          "name": "stdout",
          "text": [
            "[-7.000, 3.000]\n"
          ]
        }
      ]
    },
    {
      "cell_type": "code",
      "source": [
        "print (sympy.pretty(nghiem))"
      ],
      "metadata": {
        "colab": {
          "base_uri": "https://localhost:8080/"
        },
        "id": "gvanKvp6eFYc",
        "outputId": "b7e82af0-e918-4363-8d35-99887c143213"
      },
      "execution_count": 18,
      "outputs": [
        {
          "output_type": "stream",
          "name": "stdout",
          "text": [
            "[-7, 3]\n"
          ]
        }
      ]
    },
    {
      "cell_type": "code",
      "source": [
        "import numpy as np\n",
        "A = np.array([[2,3],[3,-6]])\n",
        "D = np.array([[-7,0],[0,3]])\n",
        "P = np.array([[-1.0/3, 3],[1,1]])\n",
        "from numpy import linalg\n",
        "from numpy import linalg as LA\n",
        "P1 = LA.inv(P) # tính giá trị nghịch đảo của P\n",
        "print (P1)"
      ],
      "metadata": {
        "colab": {
          "base_uri": "https://localhost:8080/"
        },
        "id": "1R5Y_6MneGyc",
        "outputId": "cd9d2cc7-58ae-4411-926f-6a5b359687d1"
      },
      "execution_count": 19,
      "outputs": [
        {
          "output_type": "stream",
          "name": "stdout",
          "text": [
            "[[-0.3  0.9]\n",
            " [ 0.3  0.1]]\n"
          ]
        }
      ]
    },
    {
      "cell_type": "code",
      "source": [
        "print(A.dot(P))"
      ],
      "metadata": {
        "colab": {
          "base_uri": "https://localhost:8080/"
        },
        "id": "eftqU1h3eMUs",
        "outputId": "5a30c9ab-c7d4-4d9b-beb9-c0c833c2000b"
      },
      "execution_count": 21,
      "outputs": [
        {
          "output_type": "stream",
          "name": "stdout",
          "text": [
            "[[ 2.33333333  9.        ]\n",
            " [-7.          3.        ]]\n"
          ]
        }
      ]
    },
    {
      "cell_type": "code",
      "source": [
        "print(P.dot(D))"
      ],
      "metadata": {
        "colab": {
          "base_uri": "https://localhost:8080/"
        },
        "id": "r4g3abx7eO2u",
        "outputId": "810b67a9-ca26-4f33-be52-44f422474cb6"
      },
      "execution_count": 20,
      "outputs": [
        {
          "output_type": "stream",
          "name": "stdout",
          "text": [
            "[[ 2.33333333  9.        ]\n",
            " [-7.          3.        ]]\n"
          ]
        }
      ]
    },
    {
      "cell_type": "code",
      "source": [
        "print(P @ (D ** 1000) @ P1 )"
      ],
      "metadata": {
        "colab": {
          "base_uri": "https://localhost:8080/"
        },
        "id": "Fe6A1dsGeUnW",
        "outputId": "47d35680-e815-4bae-d4f5-549f0322fec4"
      },
      "execution_count": 22,
      "outputs": [
        {
          "output_type": "stream",
          "name": "stdout",
          "text": [
            "[[ 5.03503397e+18  3.50482117e+18]\n",
            " [ 3.50482117e+18 -4.31115581e+18]]\n"
          ]
        }
      ]
    },
    {
      "cell_type": "code",
      "source": [
        "print (D **2)"
      ],
      "metadata": {
        "colab": {
          "base_uri": "https://localhost:8080/"
        },
        "id": "zGzv_SlFeW4c",
        "outputId": "05cfe18a-2899-4da1-b9f7-2c90e6b2cc78"
      },
      "execution_count": 23,
      "outputs": [
        {
          "output_type": "stream",
          "name": "stdout",
          "text": [
            "[[49  0]\n",
            " [ 0  9]]\n"
          ]
        }
      ]
    },
    {
      "cell_type": "markdown",
      "source": [
        "BT VỀ NHÀ"
      ],
      "metadata": {
        "id": "V2DJOnlFf3t9"
      }
    },
    {
      "cell_type": "markdown",
      "source": [
        "Câu 1: [Trắc nghiệm] Trong Python 3, các câu lệnh sau đây, câu lệnh nào tính chuẩn 2 của\n",
        "vector a. Với a được xác định là:\n",
        "import numpy as np\n",
        "a = np.array([1,2,3])\n",
        "a. >>> mag = np.sqrt(a.dot(a))\n",
        "b. >>> mag = np.sqrt(a @ a )\n",
        "c. >>> mag = np.sqrt(np.inner(a,a))\n",
        "d. >>> mag = lambda x : math.sqrt(sum(i** 2 for i in x))mag(a)\n",
        "\n",
        "Đáp án đúng: a"
      ],
      "metadata": {
        "id": "GPA9bukSedr9"
      }
    },
    {
      "cell_type": "code",
      "source": [
        "import numpy as np\n",
        "def vector_distance(u, v):\n",
        "    return np.linalg.norm(u - v)\n",
        "def vector_angle(u, v):\n",
        "    cos_theta = np.dot(u, v) / (np.linalg.norm(u) * np.linalg.norm(v))\n",
        "    return np.arccos(cos_theta)\n",
        "def orthogonal_projection(u, v):\n",
        "    return (np.dot(u, v) / np.dot(v, v)) * v\n",
        "u = np.array([1, 2, 3])\n",
        "v = np.array([4, 5, 6])\n",
        "distance = vector_distance(u, v)\n",
        "angle = vector_angle(u, v)\n",
        "projection = orthogonal_projection(u, v)\n",
        "print(f\"a/ Khoảng cách giữa u và v: {distance}\")\n",
        "print(f\"b/ Góc giữa u và v: {np.degrees(angle)} độ\")\n",
        "print(f\"c/ Phép chiếu trực giao của u lên v: {projection}\")\n"
      ],
      "metadata": {
        "colab": {
          "base_uri": "https://localhost:8080/"
        },
        "id": "NmS2mGTJfuSk",
        "outputId": "8c9e09e0-6aa9-4084-84fa-c14c26ace1eb"
      },
      "execution_count": 24,
      "outputs": [
        {
          "output_type": "stream",
          "name": "stdout",
          "text": [
            "a/ Khoảng cách giữa u và v: 5.196152422706632\n",
            "b/ Góc giữa u và v: 12.933154491899135 độ\n",
            "c/ Phép chiếu trực giao của u lên v: [1.66233766 2.07792208 2.49350649]\n"
          ]
        }
      ]
    }
  ]
}